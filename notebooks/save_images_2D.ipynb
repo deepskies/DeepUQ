{
 "cells": [
  {
   "cell_type": "code",
   "execution_count": 1,
   "id": "d2f97a7d-eed6-4d08-972e-4d179b14f459",
   "metadata": {},
   "outputs": [],
   "source": [
    "import numpy as np\n",
    "import pandas as pd\n",
    "import matplotlib.pyplot as plt\n",
    "from data.data import MyDataLoader, DataPreparation"
   ]
  },
  {
   "cell_type": "markdown",
   "id": "5ee239e6-8b07-458c-b5b0-f3f104118e5b",
   "metadata": {},
   "source": [
    "`StarObject` and `GalaxyObject` are instantiated here without noise."
   ]
  },
  {
   "cell_type": "code",
   "execution_count": 2,
   "id": "90f13884-f44d-493c-9f23-3652ca36679d",
   "metadata": {},
   "outputs": [],
   "source": [
    "data = DataPreparation()"
   ]
  },
  {
   "cell_type": "code",
   "execution_count": 3,
   "id": "3912aaa2-7498-4e46-9a2e-1ee63102ddf7",
   "metadata": {},
   "outputs": [],
   "source": [
    "size_df = 10\n",
    "noise = 'high'\n",
    "# the params are in this order:\n",
    "\n",
    "data.sample_params_from_prior(size_df,\n",
    "                              low=[1, 1, -1.5],\n",
    "                              high=[10, 10, 1.5],\n",
    "                              n_params=3,\n",
    "                              seed=42)"
   ]
  },
  {
   "cell_type": "code",
   "execution_count": 4,
   "id": "cba03c39-701e-47a1-89aa-8c2cad949885",
   "metadata": {},
   "outputs": [
    {
     "data": {
      "text/plain": [
       "array([[ 4.37086107,  9.55642876,  0.69598183],\n",
       "       [ 6.38792636,  2.40416776, -1.03201644],\n",
       "       [ 1.52275251,  8.79558531,  0.30334504],\n",
       "       [ 7.3726532 ,  1.18526045,  1.40972956],\n",
       "       [ 8.49198377,  2.911052  , -0.9545251 ],\n",
       "       [ 2.65064059,  3.73818019,  0.07426929],\n",
       "       [ 4.88750517,  3.62106226,  0.33555868],\n",
       "       [ 2.25544475,  3.62930184, -0.40091447],\n",
       "       [ 5.10462986,  8.06658365, -0.90097865],\n",
       "       [ 5.62810995,  6.33173112, -1.36064876]])"
      ]
     },
     "execution_count": 4,
     "metadata": {},
     "output_type": "execute_result"
    }
   ],
   "source": [
    "data.params"
   ]
  },
  {
   "cell_type": "code",
   "execution_count": 6,
   "id": "d3789620-058a-4667-82d7-e04d13515961",
   "metadata": {},
   "outputs": [
    {
     "ename": "TypeError",
     "evalue": "DataPreparation.simulate_data_2d() got an unexpected keyword argument 'radius'",
     "output_type": "error",
     "traceback": [
      "\u001b[0;31m---------------------------------------------------------------------------\u001b[0m",
      "\u001b[0;31mTypeError\u001b[0m                                 Traceback (most recent call last)",
      "Cell \u001b[0;32mIn[6], line 8\u001b[0m\n\u001b[1;32m      6\u001b[0m total_brightness_noisy \u001b[38;5;241m=\u001b[39m []\n\u001b[1;32m      7\u001b[0m \u001b[38;5;28;01mfor\u001b[39;00m i \u001b[38;5;129;01min\u001b[39;00m \u001b[38;5;28mrange\u001b[39m(size_df):\n\u001b[0;32m----> 8\u001b[0m     image \u001b[38;5;241m=\u001b[39m \u001b[43mdata\u001b[49m\u001b[38;5;241;43m.\u001b[39;49m\u001b[43msimulate_data_2d\u001b[49m\u001b[43m(\u001b[49m\n\u001b[1;32m      9\u001b[0m \u001b[43m        \u001b[49m\u001b[43mimage_size\u001b[49m\u001b[38;5;241;43m=\u001b[39;49m\u001b[43mimage_size\u001b[49m\u001b[43m,\u001b[49m\n\u001b[1;32m     10\u001b[0m \u001b[43m        \u001b[49m\u001b[38;5;66;43;03m#amplitude=data.params[i, 0],\u001b[39;49;00m\n\u001b[1;32m     11\u001b[0m \u001b[43m        \u001b[49m\u001b[43mradius\u001b[49m\u001b[38;5;241;43m=\u001b[39;49m\u001b[43mdata\u001b[49m\u001b[38;5;241;43m.\u001b[39;49m\u001b[43mparams\u001b[49m\u001b[43m[\u001b[49m\u001b[43mi\u001b[49m\u001b[43m,\u001b[49m\u001b[43m \u001b[49m\u001b[38;5;241;43m1\u001b[39;49m\u001b[43m]\u001b[49m\u001b[43m,\u001b[49m\n\u001b[1;32m     12\u001b[0m \u001b[43m        \u001b[49m\u001b[43mcenter_x\u001b[49m\u001b[38;5;241;43m=\u001b[39;49m\u001b[38;5;241;43m16\u001b[39;49m\u001b[43m,\u001b[49m\n\u001b[1;32m     13\u001b[0m \u001b[43m        \u001b[49m\u001b[43mcenter_y\u001b[49m\u001b[38;5;241;43m=\u001b[39;49m\u001b[38;5;241;43m16\u001b[39;49m\u001b[43m,\u001b[49m\n\u001b[1;32m     14\u001b[0m \u001b[43m        \u001b[49m\u001b[43mtheta\u001b[49m\u001b[38;5;241;43m=\u001b[39;49m\u001b[43mdata\u001b[49m\u001b[38;5;241;43m.\u001b[39;49m\u001b[43mparams\u001b[49m\u001b[43m[\u001b[49m\u001b[43mi\u001b[49m\u001b[43m,\u001b[49m\u001b[43m \u001b[49m\u001b[38;5;241;43m2\u001b[39;49m\u001b[43m]\u001b[49m\u001b[43m,\u001b[49m\n\u001b[1;32m     15\u001b[0m \u001b[43m        \u001b[49m\u001b[43mnoise_level\u001b[49m\u001b[38;5;241;43m=\u001b[39;49m\u001b[38;5;241;43m0\u001b[39;49m\u001b[43m)\u001b[49m\n\u001b[1;32m     16\u001b[0m     \u001b[38;5;28;01mif\u001b[39;00m plot:\n\u001b[1;32m     17\u001b[0m         \u001b[38;5;66;03m#for j, k in zip(range(image_size), range(image_size)):\u001b[39;00m\n\u001b[1;32m     18\u001b[0m             \u001b[38;5;66;03m#image[j, k] += np.random.normal(loc=0, scale=1, size=(3, 4))  # M\u001b[39;00m\n\u001b[1;32m     19\u001b[0m         noisy_image \u001b[38;5;241m=\u001b[39m image \u001b[38;5;241m+\u001b[39m np\u001b[38;5;241m.\u001b[39mrandom\u001b[38;5;241m.\u001b[39mnormal(\n\u001b[1;32m     20\u001b[0m             loc\u001b[38;5;241m=\u001b[39m\u001b[38;5;241m0\u001b[39m, scale\u001b[38;5;241m=\u001b[39m\u001b[38;5;241m1\u001b[39m, size\u001b[38;5;241m=\u001b[39m(image_size, image_size)) \n",
      "\u001b[0;31mTypeError\u001b[0m: DataPreparation.simulate_data_2d() got an unexpected keyword argument 'radius'"
     ]
    }
   ],
   "source": [
    "plot = True\n",
    "image_size = 32\n",
    "image_array = np.zeros((size_df, image_size, image_size))\n",
    "image_noisy_array = np.zeros((size_df, image_size, image_size))\n",
    "total_brightness = []\n",
    "total_brightness_noisy = []\n",
    "for i in range(size_df):\n",
    "    image = data.simulate_data_2d(\n",
    "        image_size=image_size,\n",
    "        amplitude=data.params[i, 0],\n",
    "        radius=data.params[i, 1],\n",
    "        center_x=16,\n",
    "        center_y=16,\n",
    "        theta=data.params[i, 2],\n",
    "        noise_level=0)\n",
    "    if plot:\n",
    "        #for j, k in zip(range(image_size), range(image_size)):\n",
    "            #image[j, k] += np.random.normal(loc=0, scale=1, size=(3, 4))  # M\n",
    "        noisy_image = image + np.random.normal(\n",
    "            loc=0, scale=1, size=(image_size, image_size)) \n",
    "        plt.imshow(image, vmax=25)\n",
    "        plt.colorbar()\n",
    "\n",
    "    image_array[i, :, :] = image\n",
    "    noisy_image_array[i, :, :] = noisy_image\n",
    "    \n",
    "    # okay for each one we need to calculate a thing,\n",
    "    # total brightness\n",
    "    if plot:\n",
    "        plt.title(np.sum(image))\n",
    "        plt.show()\n",
    "    total_brightness.append(np.sum(image))\n",
    "    total_brightness_noisy.append(np.sum(image_noisy))\n"
   ]
  },
  {
   "cell_type": "code",
   "execution_count": null,
   "id": "bb06c377-8398-45ec-8021-e560973821db",
   "metadata": {},
   "outputs": [],
   "source": [
    "np.shape(image_array)"
   ]
  },
  {
   "cell_type": "code",
   "execution_count": null,
   "id": "757c13c8-5d05-4437-97d3-673a42695eff",
   "metadata": {},
   "outputs": [],
   "source": []
  },
  {
   "cell_type": "code",
   "execution_count": null,
   "id": "79a3ab38-f987-4142-aad1-2ecbe5b6a388",
   "metadata": {},
   "outputs": [],
   "source": []
  },
  {
   "cell_type": "code",
   "execution_count": null,
   "id": "51c2a1ea-b7ca-49c2-8551-66b5d39452c0",
   "metadata": {},
   "outputs": [],
   "source": [
    "data = DataPreparation()"
   ]
  }
 ],
 "metadata": {
  "kernelspec": {
   "display_name": "Python 3 (ipykernel)",
   "language": "python",
   "name": "python3"
  },
  "language_info": {
   "codemirror_mode": {
    "name": "ipython",
    "version": 3
   },
   "file_extension": ".py",
   "mimetype": "text/x-python",
   "name": "python",
   "nbconvert_exporter": "python",
   "pygments_lexer": "ipython3",
   "version": "3.10.12"
  }
 },
 "nbformat": 4,
 "nbformat_minor": 5
}
