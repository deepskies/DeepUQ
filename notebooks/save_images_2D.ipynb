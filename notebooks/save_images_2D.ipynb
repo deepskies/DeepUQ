{
 "cells": [
  {
   "cell_type": "code",
   "execution_count": 1,
   "id": "d2f97a7d-eed6-4d08-972e-4d179b14f459",
   "metadata": {},
   "outputs": [],
   "source": [
    "import numpy as np\n",
    "import pandas as pd\n",
    "import matplotlib.pyplot as plt\n",
    "from data.data import MyDataLoader, DataPreparation"
   ]
  },
  {
   "cell_type": "markdown",
   "id": "5ee239e6-8b07-458c-b5b0-f3f104118e5b",
   "metadata": {},
   "source": [
    "`StarObject` and `GalaxyObject` are instantiated here without noise."
   ]
  },
  {
   "cell_type": "code",
   "execution_count": 2,
   "id": "90f13884-f44d-493c-9f23-3652ca36679d",
   "metadata": {},
   "outputs": [],
   "source": [
    "data = DataPreparation()"
   ]
  },
  {
   "cell_type": "code",
   "execution_count": 20,
   "id": "3912aaa2-7498-4e46-9a2e-1ee63102ddf7",
   "metadata": {},
   "outputs": [],
   "source": [
    "size_df = 1\n",
    "noise = 'high'\n",
    "# the params are in this order:\n",
    "\n",
    "data.sample_params_from_prior(size_df,\n",
    "                              low=[1, 1, -1.5],\n",
    "                              high=[10, 10, 1.5],\n",
    "                              n_params=3,\n",
    "                              seed=42)"
   ]
  },
  {
   "cell_type": "code",
   "execution_count": 21,
   "id": "cba03c39-701e-47a1-89aa-8c2cad949885",
   "metadata": {},
   "outputs": [
    {
     "data": {
      "text/plain": [
       "array([[4.37086107, 9.55642876, 0.69598183]])"
      ]
     },
     "execution_count": 21,
     "metadata": {},
     "output_type": "execute_result"
    }
   ],
   "source": [
    "data.params"
   ]
  },
  {
   "cell_type": "code",
   "execution_count": 25,
   "id": "d3789620-058a-4667-82d7-e04d13515961",
   "metadata": {},
   "outputs": [
    {
     "data": {
      "image/png": "[encoded data removed]",
      "text/plain": [
       "<Figure size 640x480 with 2 Axes>"
      ]
     },
     "metadata": {},
     "output_type": "display_data"
    }
   ],
   "source": [
    "plot = True\n",
    "image_size = 32\n",
    "image_array = np.zeros((size_df, image_size, image_size))\n",
    "image_noisy_array = np.zeros((size_df, image_size, image_size))\n",
    "total_brightness = []\n",
    "total_brightness_noisy = []\n",
    "for i in range(size_df):\n",
    "    image = data.simulate_data_2d(\n",
    "        image_size=image_size,\n",
    "        amplitude=data.params[i, 0],\n",
    "        radius=data.params[i, 1],\n",
    "        center_x=16,\n",
    "        center_y=16,\n",
    "        theta=data.params[i, 2],\n",
    "        noise_level=0)\n",
    "    if plot:\n",
    "        #for j, k in zip(range(image_size), range(image_size)):\n",
    "            #image[j, k] += np.random.normal(loc=0, scale=1, size=(3, 4))  # M\n",
    "        noisy_image = image + np.random.normal(\n",
    "            loc=0, scale=1, size=(image_size, image_size)) \n",
    "        plt.imshow(image, vmax=25)\n",
    "        plt.colorbar()\n",
    "\n",
    "    image_array[i, :, :] = image\n",
    "    noisy_image_array[i, :, :] = noisy_image\n",
    "    \n",
    "    # okay for each one we need to calculate a thing,\n",
    "    # total brightness\n",
    "    if plot:\n",
    "        plt.title(np.sum(image))\n",
    "        plt.show()\n",
    "    total_brightness.append(np.sum(image))\n",
    "    total_brightness_noisy.append(np.sum(image_noisy))\n"
   ]
  },
  {
   "cell_type": "code",
   "execution_count": 19,
   "id": "bb06c377-8398-45ec-8021-e560973821db",
   "metadata": {},
   "outputs": [
    {
     "data": {
      "text/plain": [
       "(10, 32, 32)"
      ]
     },
     "execution_count": 19,
     "metadata": {},
     "output_type": "execute_result"
    }
   ],
   "source": [
    "np.shape(image_array)"
   ]
  },
  {
   "cell_type": "code",
   "execution_count": null,
   "id": "757c13c8-5d05-4437-97d3-673a42695eff",
   "metadata": {},
   "outputs": [],
   "source": []
  },
  {
   "cell_type": "code",
   "execution_count": null,
   "id": "79a3ab38-f987-4142-aad1-2ecbe5b6a388",
   "metadata": {},
   "outputs": [],
   "source": []
  },
  {
   "cell_type": "code",
   "execution_count": null,
   "id": "51c2a1ea-b7ca-49c2-8551-66b5d39452c0",
   "metadata": {},
   "outputs": [],
   "source": [
    "data = DataPreparation()"
   ]
  }
 ],
 "metadata": {
  "kernelspec": {
   "display_name": "Python 3 (ipykernel)",
   "language": "python",
   "name": "python3"
  },
  "language_info": {
   "codemirror_mode": {
    "name": "ipython",
    "version": 3
   },
   "file_extension": ".py",
   "mimetype": "text/x-python",
   "name": "python",
   "nbconvert_exporter": "python",
   "pygments_lexer": "ipython3",
   "version": "3.10.12"
  }
 },
 "nbformat": 4,
 "nbformat_minor": 5
}
