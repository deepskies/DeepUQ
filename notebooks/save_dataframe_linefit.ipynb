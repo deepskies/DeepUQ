{
 "cells": [
  {
   "cell_type": "markdown",
   "id": "e0b15caf-2e2b-4b65-a832-01892a353bed",
   "metadata": {},
   "source": [
    "## Static dataset creation\n",
    "This notebook walks through how to use the modules to create and save a static dataset for use in all of the statistical and ML methods. The method-focused notebooks show how to import and utilize this static dataset in inference."
   ]
  },
  {
   "cell_type": "code",
   "execution_count": 1,
   "id": "47611152-0598-4d26-ac4d-d1f243dd0736",
   "metadata": {},
   "outputs": [],
   "source": [
    "import numpy as np\n",
    "import pandas as pd\n",
    "import matplotlib.pyplot as plt\n",
    "from data.data import MyDataLoader, DataPreparation"
   ]
  },
  {
   "cell_type": "markdown",
   "id": "ba5baa34-ea22-40e7-b78e-2862900f618f",
   "metadata": {},
   "source": [
    "Use the `DataPreparation()` class from `io` to simulate some linear data with two levels of noise.\n",
    "\n",
    "Low noise is $\\sigma = 1$. High noise is $\\sigma = 10$. Both use the same input xs and same priors. Let's simulate the low noise first."
   ]
  },
  {
   "cell_type": "code",
   "execution_count": 2,
   "id": "685fb21f-38d9-4a2d-a431-79b6f540d4d5",
   "metadata": {},
   "outputs": [],
   "source": [
    "data = DataPreparation()"
   ]
  },
  {
   "cell_type": "code",
   "execution_count": 3,
   "id": "7db50617-e509-405e-900e-38676e38dd12",
   "metadata": {},
   "outputs": [],
   "source": [
    "size_df = 1000\n",
    "noise = 'high'\n",
    "data.sample_params_from_prior(size_df, 42)"
   ]
  },
  {
   "cell_type": "code",
   "execution_count": 4,
   "id": "d40b7a9a-27ea-40a0-831b-51e82ca67267",
   "metadata": {},
   "outputs": [],
   "source": [
    "if noise == 'low':\n",
    "    sigma = 1\n",
    "if noise == 'medium':\n",
    "    sigma = 5\n",
    "if noise == 'high':\n",
    "    sigma = 10\n",
    "if noise == 'vhigh':\n",
    "    sigma = 100"
   ]
  },
  {
   "cell_type": "code",
   "execution_count": 5,
   "id": "418b9ea9-0196-4fa4-b9dd-9109a28d4266",
   "metadata": {},
   "outputs": [
    {
     "name": "stdout",
     "output_type": "stream",
     "text": [
      "linear_homoskedastic simulation data generated,                 with noise injected type feature.\n"
     ]
    }
   ],
   "source": [
    "data.simulate_data(data.params,\n",
    "                   sigma, \n",
    "                   simulation_name = 'linear_homoskedastic',\n",
    "                   inject_type = 'feature'\n",
    "                    )"
   ]
  },
  {
   "cell_type": "markdown",
   "id": "2915df68-367e-4265-87fa-aa6140efc032",
   "metadata": {},
   "source": [
    "Let's take a look at this simulated dataset."
   ]
  },
  {
   "cell_type": "code",
   "execution_count": 6,
   "id": "40b029a1-fca1-471d-9453-3c00e45a2856",
   "metadata": {},
   "outputs": [
    {
     "name": "stdout",
     "output_type": "stream",
     "text": [
      "torch.Size([101])\n"
     ]
    },
    {
     "data": {
      "text/plain": [
       "tensor([[ 9.0143e+00,  1.2760e+01,  1.6505e+01,  ...,  3.7606e+02,\n",
       "          3.7981e+02,  3.8355e+02],\n",
       "        [ 1.9732e+00,  9.2931e+00,  1.6613e+01,  ...,  7.1933e+02,\n",
       "          7.2665e+02,  7.3397e+02],\n",
       "        [-6.8801e+00, -5.3199e+00, -3.7597e+00,  ...,  1.4602e+02,\n",
       "          1.4758e+02,  1.4914e+02],\n",
       "        ...,\n",
       "        [ 3.1391e+00,  1.0653e+01,  1.8167e+01,  ...,  7.3949e+02,\n",
       "          7.4700e+02,  7.5451e+02],\n",
       "        [-8.6208e+00,  9.4531e-01,  1.0511e+01,  ...,  9.2886e+02,\n",
       "          9.3843e+02,  9.4799e+02],\n",
       "        [-4.3563e+00, -3.7857e+00, -3.2152e+00,  ...,  5.1557e+01,\n",
       "          5.2128e+01,  5.2698e+01]])"
      ]
     },
     "execution_count": 6,
     "metadata": {},
     "output_type": "execute_result"
    }
   ],
   "source": [
    "print(np.shape(data.output[0]))\n",
    "data.output"
   ]
  },
  {
   "cell_type": "code",
   "execution_count": 7,
   "id": "5541b962-86c2-4b84-bce0-3e1134674cdb",
   "metadata": {},
   "outputs": [
    {
     "data": {
      "text/plain": [
       "array([[ 3.74540119,  9.01428613],\n",
       "       [ 7.31993942,  1.97316968],\n",
       "       [ 1.5601864 , -6.88010959],\n",
       "       ...,\n",
       "       [ 7.51375086,  3.13910313],\n",
       "       [ 9.56614621, -8.62083967],\n",
       "       [ 0.57054721, -4.35625851]])"
      ]
     },
     "execution_count": 7,
     "metadata": {},
     "output_type": "execute_result"
    }
   ],
   "source": [
    "data.params"
   ]
  },
  {
   "cell_type": "code",
   "execution_count": 8,
   "id": "4de0c3a7-8073-4d53-87a3-65564c183c8e",
   "metadata": {},
   "outputs": [
    {
     "ename": "ValueError",
     "evalue": "x and y must have same first dimension, but have shapes (1000, 101) and torch.Size([101])",
     "output_type": "error",
     "traceback": [
      "\u001b[0;31m---------------------------------------------------------------------------\u001b[0m",
      "\u001b[0;31mValueError\u001b[0m                                Traceback (most recent call last)",
      "Cell \u001b[0;32mIn[8], line 3\u001b[0m\n\u001b[1;32m      1\u001b[0m plt\u001b[38;5;241m.\u001b[39mclf()\n\u001b[1;32m      2\u001b[0m \u001b[38;5;28;01mfor\u001b[39;00m i \u001b[38;5;129;01min\u001b[39;00m \u001b[38;5;28mrange\u001b[39m(\u001b[38;5;241m5\u001b[39m):\n\u001b[0;32m----> 3\u001b[0m     \u001b[43mplt\u001b[49m\u001b[38;5;241;43m.\u001b[39;49m\u001b[43mplot\u001b[49m\u001b[43m(\u001b[49m\u001b[43mdata\u001b[49m\u001b[38;5;241;43m.\u001b[39;49m\u001b[43minput\u001b[49m\u001b[43m,\u001b[49m\u001b[43m \u001b[49m\u001b[43mdata\u001b[49m\u001b[38;5;241;43m.\u001b[39;49m\u001b[43moutput\u001b[49m\u001b[43m[\u001b[49m\u001b[43mi\u001b[49m\u001b[43m]\u001b[49m\u001b[43m)\u001b[49m\n\u001b[1;32m      4\u001b[0m     plt\u001b[38;5;241m.\u001b[39mscatter(data\u001b[38;5;241m.\u001b[39minput, data\u001b[38;5;241m.\u001b[39moutput[i],\n\u001b[1;32m      5\u001b[0m                 label \u001b[38;5;241m=\u001b[39m \u001b[38;5;124mf\u001b[39m\u001b[38;5;124m'\u001b[39m\u001b[38;5;124m$m = $\u001b[39m\u001b[38;5;132;01m{\u001b[39;00mdata\u001b[38;5;241m.\u001b[39mparams[i][\u001b[38;5;241m0\u001b[39m]\u001b[38;5;132;01m}\u001b[39;00m\u001b[38;5;124m, $b = $\u001b[39m\u001b[38;5;132;01m{\u001b[39;00mdata\u001b[38;5;241m.\u001b[39mparams[i][\u001b[38;5;241m1\u001b[39m]\u001b[38;5;132;01m}\u001b[39;00m\u001b[38;5;124m'\u001b[39m)\n\u001b[1;32m      6\u001b[0m plt\u001b[38;5;241m.\u001b[39mlegend()\n",
      "File \u001b[0;32m~/Library/Caches/pypoetry/virtualenvs/deepuq-DRzT0TL8-py3.9/lib/python3.9/site-packages/matplotlib/pyplot.py:3578\u001b[0m, in \u001b[0;36mplot\u001b[0;34m(scalex, scaley, data, *args, **kwargs)\u001b[0m\n\u001b[1;32m   3570\u001b[0m \u001b[38;5;129m@_copy_docstring_and_deprecators\u001b[39m(Axes\u001b[38;5;241m.\u001b[39mplot)\n\u001b[1;32m   3571\u001b[0m \u001b[38;5;28;01mdef\u001b[39;00m \u001b[38;5;21mplot\u001b[39m(\n\u001b[1;32m   3572\u001b[0m     \u001b[38;5;241m*\u001b[39margs: \u001b[38;5;28mfloat\u001b[39m \u001b[38;5;241m|\u001b[39m ArrayLike \u001b[38;5;241m|\u001b[39m \u001b[38;5;28mstr\u001b[39m,\n\u001b[0;32m   (...)\u001b[0m\n\u001b[1;32m   3576\u001b[0m     \u001b[38;5;241m*\u001b[39m\u001b[38;5;241m*\u001b[39mkwargs,\n\u001b[1;32m   3577\u001b[0m ) \u001b[38;5;241m-\u001b[39m\u001b[38;5;241m>\u001b[39m \u001b[38;5;28mlist\u001b[39m[Line2D]:\n\u001b[0;32m-> 3578\u001b[0m     \u001b[38;5;28;01mreturn\u001b[39;00m \u001b[43mgca\u001b[49m\u001b[43m(\u001b[49m\u001b[43m)\u001b[49m\u001b[38;5;241;43m.\u001b[39;49m\u001b[43mplot\u001b[49m\u001b[43m(\u001b[49m\n\u001b[1;32m   3579\u001b[0m \u001b[43m        \u001b[49m\u001b[38;5;241;43m*\u001b[39;49m\u001b[43margs\u001b[49m\u001b[43m,\u001b[49m\n\u001b[1;32m   3580\u001b[0m \u001b[43m        \u001b[49m\u001b[43mscalex\u001b[49m\u001b[38;5;241;43m=\u001b[39;49m\u001b[43mscalex\u001b[49m\u001b[43m,\u001b[49m\n\u001b[1;32m   3581\u001b[0m \u001b[43m        \u001b[49m\u001b[43mscaley\u001b[49m\u001b[38;5;241;43m=\u001b[39;49m\u001b[43mscaley\u001b[49m\u001b[43m,\u001b[49m\n\u001b[1;32m   3582\u001b[0m \u001b[43m        \u001b[49m\u001b[38;5;241;43m*\u001b[39;49m\u001b[38;5;241;43m*\u001b[39;49m\u001b[43m(\u001b[49m\u001b[43m{\u001b[49m\u001b[38;5;124;43m\"\u001b[39;49m\u001b[38;5;124;43mdata\u001b[39;49m\u001b[38;5;124;43m\"\u001b[39;49m\u001b[43m:\u001b[49m\u001b[43m \u001b[49m\u001b[43mdata\u001b[49m\u001b[43m}\u001b[49m\u001b[43m \u001b[49m\u001b[38;5;28;43;01mif\u001b[39;49;00m\u001b[43m \u001b[49m\u001b[43mdata\u001b[49m\u001b[43m \u001b[49m\u001b[38;5;129;43;01mis\u001b[39;49;00m\u001b[43m \u001b[49m\u001b[38;5;129;43;01mnot\u001b[39;49;00m\u001b[43m \u001b[49m\u001b[38;5;28;43;01mNone\u001b[39;49;00m\u001b[43m \u001b[49m\u001b[38;5;28;43;01melse\u001b[39;49;00m\u001b[43m \u001b[49m\u001b[43m{\u001b[49m\u001b[43m}\u001b[49m\u001b[43m)\u001b[49m\u001b[43m,\u001b[49m\n\u001b[1;32m   3583\u001b[0m \u001b[43m        \u001b[49m\u001b[38;5;241;43m*\u001b[39;49m\u001b[38;5;241;43m*\u001b[39;49m\u001b[43mkwargs\u001b[49m\u001b[43m,\u001b[49m\n\u001b[1;32m   3584\u001b[0m \u001b[43m    \u001b[49m\u001b[43m)\u001b[49m\n",
      "File \u001b[0;32m~/Library/Caches/pypoetry/virtualenvs/deepuq-DRzT0TL8-py3.9/lib/python3.9/site-packages/matplotlib/axes/_axes.py:1721\u001b[0m, in \u001b[0;36mAxes.plot\u001b[0;34m(self, scalex, scaley, data, *args, **kwargs)\u001b[0m\n\u001b[1;32m   1478\u001b[0m \u001b[38;5;250m\u001b[39m\u001b[38;5;124;03m\"\"\"\u001b[39;00m\n\u001b[1;32m   1479\u001b[0m \u001b[38;5;124;03mPlot y versus x as lines and/or markers.\u001b[39;00m\n\u001b[1;32m   1480\u001b[0m \n\u001b[0;32m   (...)\u001b[0m\n\u001b[1;32m   1718\u001b[0m \u001b[38;5;124;03m(``'green'``) or hex strings (``'#008000'``).\u001b[39;00m\n\u001b[1;32m   1719\u001b[0m \u001b[38;5;124;03m\"\"\"\u001b[39;00m\n\u001b[1;32m   1720\u001b[0m kwargs \u001b[38;5;241m=\u001b[39m cbook\u001b[38;5;241m.\u001b[39mnormalize_kwargs(kwargs, mlines\u001b[38;5;241m.\u001b[39mLine2D)\n\u001b[0;32m-> 1721\u001b[0m lines \u001b[38;5;241m=\u001b[39m [\u001b[38;5;241m*\u001b[39m\u001b[38;5;28mself\u001b[39m\u001b[38;5;241m.\u001b[39m_get_lines(\u001b[38;5;28mself\u001b[39m, \u001b[38;5;241m*\u001b[39margs, data\u001b[38;5;241m=\u001b[39mdata, \u001b[38;5;241m*\u001b[39m\u001b[38;5;241m*\u001b[39mkwargs)]\n\u001b[1;32m   1722\u001b[0m \u001b[38;5;28;01mfor\u001b[39;00m line \u001b[38;5;129;01min\u001b[39;00m lines:\n\u001b[1;32m   1723\u001b[0m     \u001b[38;5;28mself\u001b[39m\u001b[38;5;241m.\u001b[39madd_line(line)\n",
      "File \u001b[0;32m~/Library/Caches/pypoetry/virtualenvs/deepuq-DRzT0TL8-py3.9/lib/python3.9/site-packages/matplotlib/axes/_base.py:303\u001b[0m, in \u001b[0;36m_process_plot_var_args.__call__\u001b[0;34m(self, axes, data, *args, **kwargs)\u001b[0m\n\u001b[1;32m    301\u001b[0m     this \u001b[38;5;241m+\u001b[39m\u001b[38;5;241m=\u001b[39m args[\u001b[38;5;241m0\u001b[39m],\n\u001b[1;32m    302\u001b[0m     args \u001b[38;5;241m=\u001b[39m args[\u001b[38;5;241m1\u001b[39m:]\n\u001b[0;32m--> 303\u001b[0m \u001b[38;5;28;01myield from\u001b[39;00m \u001b[38;5;28;43mself\u001b[39;49m\u001b[38;5;241;43m.\u001b[39;49m\u001b[43m_plot_args\u001b[49m\u001b[43m(\u001b[49m\n\u001b[1;32m    304\u001b[0m \u001b[43m    \u001b[49m\u001b[43maxes\u001b[49m\u001b[43m,\u001b[49m\u001b[43m \u001b[49m\u001b[43mthis\u001b[49m\u001b[43m,\u001b[49m\u001b[43m \u001b[49m\u001b[43mkwargs\u001b[49m\u001b[43m,\u001b[49m\u001b[43m \u001b[49m\u001b[43mambiguous_fmt_datakey\u001b[49m\u001b[38;5;241;43m=\u001b[39;49m\u001b[43mambiguous_fmt_datakey\u001b[49m\u001b[43m)\u001b[49m\n",
      "File \u001b[0;32m~/Library/Caches/pypoetry/virtualenvs/deepuq-DRzT0TL8-py3.9/lib/python3.9/site-packages/matplotlib/axes/_base.py:499\u001b[0m, in \u001b[0;36m_process_plot_var_args._plot_args\u001b[0;34m(self, axes, tup, kwargs, return_kwargs, ambiguous_fmt_datakey)\u001b[0m\n\u001b[1;32m    496\u001b[0m     axes\u001b[38;5;241m.\u001b[39myaxis\u001b[38;5;241m.\u001b[39mupdate_units(y)\n\u001b[1;32m    498\u001b[0m \u001b[38;5;28;01mif\u001b[39;00m x\u001b[38;5;241m.\u001b[39mshape[\u001b[38;5;241m0\u001b[39m] \u001b[38;5;241m!=\u001b[39m y\u001b[38;5;241m.\u001b[39mshape[\u001b[38;5;241m0\u001b[39m]:\n\u001b[0;32m--> 499\u001b[0m     \u001b[38;5;28;01mraise\u001b[39;00m \u001b[38;5;167;01mValueError\u001b[39;00m(\u001b[38;5;124mf\u001b[39m\u001b[38;5;124m\"\u001b[39m\u001b[38;5;124mx and y must have same first dimension, but \u001b[39m\u001b[38;5;124m\"\u001b[39m\n\u001b[1;32m    500\u001b[0m                      \u001b[38;5;124mf\u001b[39m\u001b[38;5;124m\"\u001b[39m\u001b[38;5;124mhave shapes \u001b[39m\u001b[38;5;132;01m{\u001b[39;00mx\u001b[38;5;241m.\u001b[39mshape\u001b[38;5;132;01m}\u001b[39;00m\u001b[38;5;124m and \u001b[39m\u001b[38;5;132;01m{\u001b[39;00my\u001b[38;5;241m.\u001b[39mshape\u001b[38;5;132;01m}\u001b[39;00m\u001b[38;5;124m\"\u001b[39m)\n\u001b[1;32m    501\u001b[0m \u001b[38;5;28;01mif\u001b[39;00m x\u001b[38;5;241m.\u001b[39mndim \u001b[38;5;241m>\u001b[39m \u001b[38;5;241m2\u001b[39m \u001b[38;5;129;01mor\u001b[39;00m y\u001b[38;5;241m.\u001b[39mndim \u001b[38;5;241m>\u001b[39m \u001b[38;5;241m2\u001b[39m:\n\u001b[1;32m    502\u001b[0m     \u001b[38;5;28;01mraise\u001b[39;00m \u001b[38;5;167;01mValueError\u001b[39;00m(\u001b[38;5;124mf\u001b[39m\u001b[38;5;124m\"\u001b[39m\u001b[38;5;124mx and y can be no greater than 2D, but have \u001b[39m\u001b[38;5;124m\"\u001b[39m\n\u001b[1;32m    503\u001b[0m                      \u001b[38;5;124mf\u001b[39m\u001b[38;5;124m\"\u001b[39m\u001b[38;5;124mshapes \u001b[39m\u001b[38;5;132;01m{\u001b[39;00mx\u001b[38;5;241m.\u001b[39mshape\u001b[38;5;132;01m}\u001b[39;00m\u001b[38;5;124m and \u001b[39m\u001b[38;5;132;01m{\u001b[39;00my\u001b[38;5;241m.\u001b[39mshape\u001b[38;5;132;01m}\u001b[39;00m\u001b[38;5;124m\"\u001b[39m)\n",
      "\u001b[0;31mValueError\u001b[0m: x and y must have same first dimension, but have shapes (1000, 101) and torch.Size([101])"
     ]
    },
    {
     "data": {
      "image/png": "[encoded data removed]",
      "text/plain": [
       "<Figure size 640x480 with 1 Axes>"
      ]
     },
     "metadata": {},
     "output_type": "display_data"
    }
   ],
   "source": [
    "plt.clf()\n",
    "for i in range(5):\n",
    "    plt.plot(data.input, data.output[i])\n",
    "    plt.scatter(data.input, data.output[i],\n",
    "                label = f'$m = ${data.params[i][0]}, $b = ${data.params[i][1]}')\n",
    "plt.legend()\n",
    "plt.show()\n",
    "    "
   ]
  },
  {
   "cell_type": "code",
   "execution_count": null,
   "id": "9714134e-53a2-42df-b254-e942a2a41314",
   "metadata": {},
   "outputs": [],
   "source": [
    "# now make it into a dataframe\n",
    "dict = data.get_dict()\n",
    "dict"
   ]
  },
  {
   "cell_type": "markdown",
   "id": "5524c185-d786-4e62-b160-fe2a48bb76c9",
   "metadata": {},
   "source": [
    "## Save the data to h5"
   ]
  },
  {
   "cell_type": "code",
   "execution_count": null,
   "id": "8a33e3d1-baa2-483d-8b65-d852872293e3",
   "metadata": {},
   "outputs": [],
   "source": [
    "saver = MyDataLoader()"
   ]
  },
  {
   "cell_type": "code",
   "execution_count": null,
   "id": "44c6292d-fea9-4693-9173-913fd396bbd5",
   "metadata": {},
   "outputs": [],
   "source": [
    "# save the dataframe\n",
    "filepath = '../data/'\n",
    "saver.save_data_h5('linear_homoskedastic_sigma_'+str(sigma)+'_size_'+str(size_df), dict)"
   ]
  },
  {
   "cell_type": "markdown",
   "id": "08fd51d4-a172-4db3-afc2-bb3807923fd3",
   "metadata": {},
   "source": [
    "## Repeat the above but now for linear heterogeneous data"
   ]
  },
  {
   "cell_type": "code",
   "execution_count": null,
   "id": "b9b95927-4429-4b82-a7cb-c980ab660def",
   "metadata": {
    "scrolled": true
   },
   "outputs": [],
   "source": [
    "data.simulate_data(data.params,\n",
    "                   sigma, \n",
    "                   'linear_heteroskedastic'\n",
    "                    )"
   ]
  },
  {
   "cell_type": "code",
   "execution_count": null,
   "id": "86e46091-df3e-42a3-9182-ba05e56c34e0",
   "metadata": {},
   "outputs": [],
   "source": [
    "plt.clf()\n",
    "for i in range(5):\n",
    "    plt.plot(data.input, data.output[i])\n",
    "    plt.scatter(data.input, data.output[i],\n",
    "                label = f'$m = ${data.params[i][0]}, $b = ${data.params[i][1]}')\n",
    "plt.legend()\n",
    "plt.show()"
   ]
  },
  {
   "cell_type": "code",
   "execution_count": null,
   "id": "ce93847d-b73b-445c-9016-ba20b7b24d67",
   "metadata": {},
   "outputs": [],
   "source": [
    "dict_ht = data.get_dict()\n",
    "saver = MyDataLoader()\n",
    "filepath = '../data/'\n",
    "saver.save_data_h5('linear_heteroskedastic_sigma_'+str(sigma)+'_size_'+str(size_df), dict_ht)"
   ]
  },
  {
   "cell_type": "code",
   "execution_count": null,
   "id": "4a651d9c-395f-40b3-89c0-5815aff033c4",
   "metadata": {},
   "outputs": [],
   "source": []
  }
 ],
 "metadata": {
  "kernelspec": {
   "display_name": "Python 3 (ipykernel)",
   "language": "python",
   "name": "python3"
  },
  "language_info": {
   "codemirror_mode": {
    "name": "ipython",
    "version": 3
   },
   "file_extension": ".py",
   "mimetype": "text/x-python",
   "name": "python",
   "nbconvert_exporter": "python",
   "pygments_lexer": "ipython3",
   "version": "3.9.12"
  }
 },
 "nbformat": 4,
 "nbformat_minor": 5
}
