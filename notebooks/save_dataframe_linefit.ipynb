{
 "cells": [
  {
   "cell_type": "markdown",
   "id": "e0b15caf-2e2b-4b65-a832-01892a353bed",
   "metadata": {},
   "source": [
    "## Static dataset creation\n",
    "This notebook walks through how to use the modules to create and save a static dataset for use in all of the statistical and ML methods. The method-focused notebooks show how to import and utilize this static dataset in inference."
   ]
  },
  {
   "cell_type": "code",
   "execution_count": null,
   "id": "47611152-0598-4d26-ac4d-d1f243dd0736",
   "metadata": {},
   "outputs": [],
   "source": [
    "import numpy as np\n",
    "import pandas as pd\n",
    "import matplotlib.pyplot as plt\n",
    "from data.data import MyDataLoader, DataPreparation"
   ]
  },
  {
   "cell_type": "markdown",
   "id": "ba5baa34-ea22-40e7-b78e-2862900f618f",
   "metadata": {},
   "source": [
    "Use the `DataPreparation()` class from `io` to simulate some linear data with two levels of noise.\n",
    "\n",
    "Low noise is $\\sigma = 1$. High noise is $\\sigma = 10$. Both use the same input xs and same priors. Let's simulate the low noise first."
   ]
  },
  {
   "cell_type": "code",
   "execution_count": null,
   "id": "685fb21f-38d9-4a2d-a431-79b6f540d4d5",
   "metadata": {},
   "outputs": [],
   "source": [
    "data = DataPreparation()"
   ]
  },
  {
   "cell_type": "code",
   "execution_count": null,
   "id": "7db50617-e509-405e-900e-38676e38dd12",
   "metadata": {},
   "outputs": [],
   "source": [
    "size_df = 1000\n",
    "noise = 'high'\n",
    "data.sample_params_from_prior(size_df, 42)"
   ]
  },
  {
   "cell_type": "code",
   "execution_count": null,
   "id": "d40b7a9a-27ea-40a0-831b-51e82ca67267",
   "metadata": {},
   "outputs": [],
   "source": [
    "# lookup dict\n",
    "noise_to_sigma = {\n",
    "    'low': 1,\n",
    "    'medium': 5,\n",
    "    'high': 10,\n",
    "    'vhigh': 100\n",
    "}"
   ]
  },
  {
   "cell_type": "markdown",
   "id": "df11d6f4-bd61-488a-8f38-145c5c9b6d72",
   "metadata": {},
   "source": [
    "Select the noise profile. Right now the only option is `linear_homoskedastic`."
   ]
  },
  {
   "cell_type": "code",
   "execution_count": null,
   "id": "7c9345bf-0335-4ce3-8ce5-17c92930ee66",
   "metadata": {},
   "outputs": [],
   "source": [
    "noise_profile = 'linear_homoskedastic'"
   ]
  },
  {
   "cell_type": "markdown",
   "id": "332ddb6a-e05b-4a7a-87f4-012330f1e5fa",
   "metadata": {},
   "source": [
    "Now select the type of noise injection. Options are 'feature' and 'predictive', where feature injects noise on x and predictive injects directly on y."
   ]
  },
  {
   "cell_type": "code",
   "execution_count": null,
   "id": "47d7b88f-248f-49de-a8ec-1737e965c613",
   "metadata": {},
   "outputs": [],
   "source": [
    "inject = 'predictive'"
   ]
  },
  {
   "cell_type": "code",
   "execution_count": null,
   "id": "418b9ea9-0196-4fa4-b9dd-9109a28d4266",
   "metadata": {},
   "outputs": [],
   "source": [
    "data.simulate_data(data.params,\n",
    "                   noise_to_sigma[noise], \n",
    "                   simulation_name = noise_profile,\n",
    "                   inject_type = inject\n",
    "                    )"
   ]
  },
  {
   "cell_type": "markdown",
   "id": "2915df68-367e-4265-87fa-aa6140efc032",
   "metadata": {},
   "source": [
    "Let's take a look at this simulated dataset."
   ]
  },
  {
   "cell_type": "code",
   "execution_count": null,
   "id": "4de0c3a7-8073-4d53-87a3-65564c183c8e",
   "metadata": {},
   "outputs": [],
   "source": [
    "plt.clf()\n",
    "for i in range(5):\n",
    "    if inject == 'predictive':\n",
    "        xs = np.reshape(data.input, (1000, 101))\n",
    "        print(np.shape(data.input))\n",
    "        print(np.shape(xs))\n",
    "        plt.plot(xs[i], data.output[i])\n",
    "        plt.scatter(xs[i], data.output[i],\n",
    "                label = f'$m = ${data.params[i][0]}, $b = ${data.params[i][1]}')\n",
    "    elif inject == 'feature':\n",
    "        plt.plot(data.input[i], data.output[i])\n",
    "        plt.scatter(data.input[i], data.output[i],\n",
    "                    label = f'$m = ${data.params[i][0]}, $b = ${data.params[i][1]}')\n",
    "plt.legend()\n",
    "if inject == 'predictive':\n",
    "    plt.xlabel('x')\n",
    "    plt.ylabel(r'$y^{\\prime}$')\n",
    "elif inject == 'feature':\n",
    "    plt.xlabel(r'$x^{\\prime}$')\n",
    "    plt.ylabel('y')\n",
    "plt.show()\n",
    "    "
   ]
  },
  {
   "cell_type": "code",
   "execution_count": null,
   "id": "9714134e-53a2-42df-b254-e942a2a41314",
   "metadata": {},
   "outputs": [],
   "source": [
    "# now make it into a dataframe\n",
    "dict = data.get_dict()\n",
    "dict"
   ]
  },
  {
   "cell_type": "markdown",
   "id": "5524c185-d786-4e62-b160-fe2a48bb76c9",
   "metadata": {},
   "source": [
    "## Save the data to h5"
   ]
  },
  {
   "cell_type": "code",
   "execution_count": null,
   "id": "8a33e3d1-baa2-483d-8b65-d852872293e3",
   "metadata": {},
   "outputs": [],
   "source": [
    "saver = MyDataLoader()"
   ]
  },
  {
   "cell_type": "code",
   "execution_count": null,
   "id": "44c6292d-fea9-4693-9173-913fd396bbd5",
   "metadata": {},
   "outputs": [],
   "source": [
    "# save the dataframe\n",
    "saver.save_data_h5(f'{noise_profile}_{inject}_sigma_{noise_to_sigma[noise]}_size_{size_df}',\n",
    "                   dict)"
   ]
  },
  {
   "cell_type": "markdown",
   "id": "af69c5bb-c51c-43af-b346-b20a2ac4eb8e",
   "metadata": {},
   "source": [
    "## Save for all noise levels and all inject styles"
   ]
  },
  {
   "cell_type": "code",
   "execution_count": null,
   "id": "9ef1f8b5-42f2-438b-9b71-8aa015a6c5cc",
   "metadata": {},
   "outputs": [],
   "source": [
    "noise_list = ['low', 'medium', 'high']\n",
    "inject_list = ['feature', 'predictive']\n",
    "\n",
    "for noise in noise_list:\n",
    "    for injection in inject_list:\n",
    "        data.simulate_data(data.params,\n",
    "                           noise_to_sigma[noise], \n",
    "                           simulation_name = noise_profile,\n",
    "                           inject_type = injection\n",
    "                            )\n",
    "        \n",
    "        dict = data.get_dict()\n",
    "        saver.save_data_h5(f'{noise_profile}_{injection}_sigma_{noise_to_sigma[noise]}_size_{size_df}',\n",
    "                           dict)"
   ]
  },
  {
   "cell_type": "code",
   "execution_count": null,
   "id": "5e56aac2-4828-4a48-b945-838e5c4d472b",
   "metadata": {},
   "outputs": [],
   "source": []
  }
 ],
 "metadata": {
  "kernelspec": {
   "display_name": "Python 3 (ipykernel)",
   "language": "python",
   "name": "python3"
  },
  "language_info": {
   "codemirror_mode": {
    "name": "ipython",
    "version": 3
   },
   "file_extension": ".py",
   "mimetype": "text/x-python",
   "name": "python",
   "nbconvert_exporter": "python",
   "pygments_lexer": "ipython3",
   "version": "3.10.12"
  }
 },
 "nbformat": 4,
 "nbformat_minor": 5
}
