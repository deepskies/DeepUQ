{
 "cells": [
  {
   "cell_type": "markdown",
   "id": "c78d0310-8fad-414d-8187-bf391d57bfaa",
   "metadata": {},
   "source": [
    "# How does the output of MCMC vary with dataset properties?\n",
    "In this notebook I will vary the noise properties of the data (in a massive loop) and collect what happens with the predicted $\\sigma$ values."
   ]
  },
  {
   "cell_type": "markdown",
   "id": "4c376bd9-d9da-4567-a24d-f2fb4d82abf0",
   "metadata": {},
   "source": [
    "## 1 Import all the things"
   ]
  },
  {
   "cell_type": "code",
   "execution_count": 10,
   "id": "9c7ce298-b2a8-459c-9008-ea4db0790e61",
   "metadata": {},
   "outputs": [],
   "source": [
    "import numpy as np\n",
    "import matplotlib.pyplot as plt"
   ]
  },
  {
   "cell_type": "code",
   "execution_count": 2,
   "id": "04edd25a-07ca-4f40-8428-f2bda4aea8ed",
   "metadata": {},
   "outputs": [],
   "source": [
    "import sys\n",
    "sys.path.append('..')\n",
    "from src.scripts import train, models, analysis, utils, dataset_prep"
   ]
  },
  {
   "cell_type": "code",
   "execution_count": 3,
   "id": "33cf1874-26b2-4317-a93c-01f07153593c",
   "metadata": {},
   "outputs": [],
   "source": [
    "data = dataset_prep.DatasetPreparation(file_path = '../data/') "
   ]
  },
  {
   "cell_type": "code",
   "execution_count": 13,
   "id": "5abbff30-514a-4f81-951c-a265cc9f55e2",
   "metadata": {},
   "outputs": [],
   "source": [
    "x = np.linspace(0,100,101)\n",
    "parameters = [1, 1, 5]\n",
    "simulation_name = 'linear'"
   ]
  },
  {
   "cell_type": "code",
   "execution_count": 14,
   "id": "9863f203-55cf-4488-8eee-3001e5ba543d",
   "metadata": {},
   "outputs": [
    {
     "name": "stdout",
     "output_type": "stream",
     "text": [
      "Linear simulation data generated.\n",
      "     Feature      Target\n",
      "0        0.0   -0.849421\n",
      "1        1.0   14.579828\n",
      "2        2.0   -0.082392\n",
      "3        3.0    3.876968\n",
      "4        4.0    6.905666\n",
      "..       ...         ...\n",
      "96      96.0   84.021166\n",
      "97      97.0  101.701648\n",
      "98      98.0   96.965123\n",
      "99      99.0   95.497877\n",
      "100    100.0  102.989764\n",
      "\n",
      "[101 rows x 2 columns]\n"
     ]
    }
   ],
   "source": [
    "dataset_manager = dataset_prep.DatasetPreparation('../data/linear.csv')\n",
    "#dataset_manager.load_data()\n",
    "#dataset_manager.preprocess_data()\n",
    "\n",
    "# Simulate linear data\n",
    "dataset_manager.simulate_data(x, parameters, simulation_name)\n",
    "\n",
    "# Save the simulated data\n",
    "#dataset_manager.save_data('simulated_data.csv')\n",
    "\n",
    "# Access the simulated data\n",
    "simulated_data = dataset_manager.get_data()\n",
    "print(simulated_data)"
   ]
  },
  {
   "cell_type": "code",
   "execution_count": 15,
   "id": "b463370d-3dff-483d-927b-00b49c5e6f0c",
   "metadata": {},
   "outputs": [
    {
     "data": {
      "image/png": "[encoded data removed]",
      "text/plain": [
       "<Figure size 640x480 with 1 Axes>"
      ]
     },
     "metadata": {},
     "output_type": "display_data"
    }
   ],
   "source": [
    "plt.clf()\n",
    "plt.scatter(simulated_data['Feature'], simulated_data['Target'])\n",
    "plt.show()"
   ]
  },
  {
   "cell_type": "markdown",
   "id": "2384cbea-b3de-46f6-b8fd-6437fbbea360",
   "metadata": {},
   "source": [
    "## Define the model"
   ]
  },
  {
   "cell_type": "code",
   "execution_count": 28,
   "id": "dbe53872-766e-469e-a1c9-0c32380f6058",
   "metadata": {},
   "outputs": [],
   "source": [
    "import numpyro\n",
    "\n",
    "## in numpyro, you must specify number of sampling chains you will use upfront\n",
    "\n",
    "# words of wisdom from Tian Li and crew:\n",
    "# on gpu, don't use conda, use pip install\n",
    "# HMC after SBI to look at degeneracies between params\n",
    "# different guides (some are slower but better at showing degeneracies)\n",
    "\n",
    "## define the platform and number of cores (one chain per core)\n",
    "numpyro.set_platform('cpu')\n",
    "core_num = 4\n",
    "numpyro.set_host_device_count(core_num)\n",
    "\n",
    "import numpyro.distributions as dist\n",
    "from numpyro.infer import MCMC, NUTS\n",
    "import pandas as pd\n",
    "from sklearn.preprocessing import LabelEncoder\n",
    "import jax\n",
    "import jax.numpy as jnp"
   ]
  },
  {
   "cell_type": "code",
   "execution_count": 25,
   "id": "6298d7a3-abee-4ccf-99d4-ad87c7e1e8f3",
   "metadata": {},
   "outputs": [],
   "source": [
    "def linefit_model(xs,\n",
    "                  exponential,\n",
    "                  y=None):\n",
    "    m = numpyro.sample(\"m\", dist.TruncatedNormal(5, 2, low = 0.01))\n",
    "    b = numpyro.sample(\"b\", dist.Normal(0, 5))\n",
    "    σ = numpyro.sample(\"σ\", dist.Exponential(exponential))\n",
    "    modelx = m * xs + b \n",
    "    pos = numpyro.sample(\"obs\", dist.Normal(modelx, σ), obs=y)\n"
   ]
  },
  {
   "cell_type": "code",
   "execution_count": 26,
   "id": "6c9c0646-4f64-4a26-af02-fce9599599f8",
   "metadata": {},
   "outputs": [
    {
     "data": {
      "image/svg+xml": [
       "<?xml version=\"1.0\" encoding=\"UTF-8\" standalone=\"no\"?>\n",
       "<!DOCTYPE svg PUBLIC \"-//W3C//DTD SVG 1.1//EN\"\n",
       " \"http://www.w3.org/Graphics/SVG/1.1/DTD/svg11.dtd\">\n",
       "<!-- Generated by graphviz version 8.1.0 (20230707.0739)\n",
       " -->\n",
       "<!-- Pages: 1 -->\n",
       "<svg width=\"408pt\" height=\"154pt\"\n",
       " viewBox=\"0.00 0.00 408.38 154.00\" xmlns=\"http://www.w3.org/2000/svg\" xmlns:xlink=\"http://www.w3.org/1999/xlink\">\n",
       "<g id=\"graph0\" class=\"graph\" transform=\"scale(1 1) rotate(0) translate(4 150)\">\n",
       "<polygon fill=\"white\" stroke=\"none\" points=\"-4,4 -4,-150 404.38,-150 404.38,4 -4,4\"/>\n",
       "<!-- m -->\n",
       "<g id=\"node1\" class=\"node\">\n",
       "<title>m</title>\n",
       "<ellipse fill=\"white\" stroke=\"black\" cx=\"27\" cy=\"-109\" rx=\"27\" ry=\"18\"/>\n",
       "<text text-anchor=\"middle\" x=\"27\" y=\"-103.95\" font-family=\"Times,serif\" font-size=\"14.00\">m</text>\n",
       "</g>\n",
       "<!-- obs -->\n",
       "<g id=\"node4\" class=\"node\">\n",
       "<title>obs</title>\n",
       "<ellipse fill=\"white\" stroke=\"black\" cx=\"99\" cy=\"-18\" rx=\"27\" ry=\"18\"/>\n",
       "<text text-anchor=\"middle\" x=\"99\" y=\"-12.95\" font-family=\"Times,serif\" font-size=\"14.00\">obs</text>\n",
       "</g>\n",
       "<!-- m&#45;&gt;obs -->\n",
       "<g id=\"edge1\" class=\"edge\">\n",
       "<title>m&#45;&gt;obs</title>\n",
       "<path fill=\"none\" stroke=\"black\" d=\"M39.21,-92.9C50.32,-79.18 66.89,-58.7 79.77,-42.78\"/>\n",
       "<polygon fill=\"black\" stroke=\"black\" points=\"82.92,-45.45 86.48,-35.47 77.47,-41.04 82.92,-45.45\"/>\n",
       "</g>\n",
       "<!-- b -->\n",
       "<g id=\"node2\" class=\"node\">\n",
       "<title>b</title>\n",
       "<ellipse fill=\"white\" stroke=\"black\" cx=\"99\" cy=\"-109\" rx=\"27\" ry=\"18\"/>\n",
       "<text text-anchor=\"middle\" x=\"99\" y=\"-103.95\" font-family=\"Times,serif\" font-size=\"14.00\">b</text>\n",
       "</g>\n",
       "<!-- b&#45;&gt;obs -->\n",
       "<g id=\"edge2\" class=\"edge\">\n",
       "<title>b&#45;&gt;obs</title>\n",
       "<path fill=\"none\" stroke=\"black\" d=\"M99,-90.84C99,-78.48 99,-61.54 99,-47.21\"/>\n",
       "<polygon fill=\"black\" stroke=\"black\" points=\"102.5,-47.41 99,-37.41 95.5,-47.41 102.5,-47.41\"/>\n",
       "</g>\n",
       "<!-- σ -->\n",
       "<g id=\"node3\" class=\"node\">\n",
       "<title>σ</title>\n",
       "<ellipse fill=\"white\" stroke=\"black\" cx=\"171\" cy=\"-109\" rx=\"27\" ry=\"18\"/>\n",
       "<text text-anchor=\"middle\" x=\"171\" y=\"-103.95\" font-family=\"Times,serif\" font-size=\"14.00\">σ</text>\n",
       "</g>\n",
       "<!-- σ&#45;&gt;obs -->\n",
       "<g id=\"edge3\" class=\"edge\">\n",
       "<title>σ&#45;&gt;obs</title>\n",
       "<path fill=\"none\" stroke=\"black\" d=\"M158.79,-92.9C147.68,-79.18 131.11,-58.7 118.23,-42.78\"/>\n",
       "<polygon fill=\"black\" stroke=\"black\" points=\"120.53,-41.04 111.52,-35.47 115.08,-45.45 120.53,-41.04\"/>\n",
       "</g>\n",
       "<!-- distribution_description_node -->\n",
       "<g id=\"node5\" class=\"node\">\n",
       "<title>distribution_description_node</title>\n",
       "<text text-anchor=\"start\" x=\"223.62\" y=\"-128.7\" font-family=\"Times,serif\" font-size=\"14.00\">m ~ LeftTruncatedDistribution</text>\n",
       "<text text-anchor=\"start\" x=\"223.62\" y=\"-112.2\" font-family=\"Times,serif\" font-size=\"14.00\">b ~ Normal</text>\n",
       "<text text-anchor=\"start\" x=\"223.62\" y=\"-95.7\" font-family=\"Times,serif\" font-size=\"14.00\">σ ~ Exponential</text>\n",
       "<text text-anchor=\"start\" x=\"223.62\" y=\"-79.2\" font-family=\"Times,serif\" font-size=\"14.00\">obs ~ Normal</text>\n",
       "</g>\n",
       "</g>\n",
       "</svg>\n"
      ],
      "text/plain": [
       "<graphviz.graphs.Digraph at 0x2b1707940>"
      ]
     },
     "execution_count": 26,
     "metadata": {},
     "output_type": "execute_result"
    }
   ],
   "source": [
    "exponential = 100\n",
    "numpyro.render_model(\n",
    "    model=linefit_model,\n",
    "    model_args=(x,exponential),\n",
    "    render_distributions=True,\n",
    "    render_params=True,\n",
    ")"
   ]
  },
  {
   "cell_type": "code",
   "execution_count": 31,
   "id": "5cc9c9d6-5b4b-4fd0-8011-020a0480d6e7",
   "metadata": {},
   "outputs": [
    {
     "data": {
      "application/vnd.jupyter.widget-view+json": {
       "model_id": "02b6e24db1464485b3475eaa532a03dd",
       "version_major": 2,
       "version_minor": 0
      },
      "text/plain": [
       "  0%|          | 0/5100 [00:00<?, ?it/s]"
      ]
     },
     "metadata": {},
     "output_type": "display_data"
    },
    {
     "data": {
      "application/vnd.jupyter.widget-view+json": {
       "model_id": "4e5ecb8509864819b8118b3117b42c0a",
       "version_major": 2,
       "version_minor": 0
      },
      "text/plain": [
       "  0%|          | 0/5100 [00:00<?, ?it/s]"
      ]
     },
     "metadata": {},
     "output_type": "display_data"
    },
    {
     "data": {
      "application/vnd.jupyter.widget-view+json": {
       "model_id": "b18ef1d04e97461786bb5b0ac21fcd0a",
       "version_major": 2,
       "version_minor": 0
      },
      "text/plain": [
       "  0%|          | 0/5100 [00:00<?, ?it/s]"
      ]
     },
     "metadata": {},
     "output_type": "display_data"
    },
    {
     "data": {
      "application/vnd.jupyter.widget-view+json": {
       "model_id": "e27a2afa42f646169d290082cbc668fa",
       "version_major": 2,
       "version_minor": 0
      },
      "text/plain": [
       "  0%|          | 0/5100 [00:00<?, ?it/s]"
      ]
     },
     "metadata": {},
     "output_type": "display_data"
    }
   ],
   "source": [
    "## the NUTS (no u-turn sampler) is a type of hamiltonian monte carlo\n",
    "## method, meaning it knows about potential energy (think gradients)\n",
    "nuts_kernel = NUTS(linefit_model, init_strategy = numpyro.infer.initialization.init_to_sample)#, target_accept_prob = 0.9)\n",
    "\n",
    "# can change the target acceptance probability\n",
    "# default is 0.8 80% \n",
    "mcmc = MCMC(nuts_kernel, num_samples=5000, num_warmup=100, num_chains = 4)\n",
    "rng_key = jax.random.PRNGKey(0)\n",
    "mcmc.run(rng_key, x,\n",
    "                exponential, y = simulated_data['Target'].values)\n",
    "\n",
    "posterior_samples = mcmc.get_samples()"
   ]
  },
  {
   "cell_type": "code",
   "execution_count": 33,
   "id": "dfd09f3d-db11-432f-8d31-47ab376dfe98",
   "metadata": {},
   "outputs": [
    {
     "data": {
      "image/png": "[encoded data removed]",
      "text/plain": [
       "<Figure size 640x480 with 1 Axes>"
      ]
     },
     "metadata": {},
     "output_type": "display_data"
    }
   ],
   "source": [
    "plt.hist(posterior_samples[\"σ\"])\n",
    "plt.show()"
   ]
  },
  {
   "cell_type": "code",
   "execution_count": 36,
   "id": "d109e433-0826-4a45-a4cc-238c1a650718",
   "metadata": {},
   "outputs": [
    {
     "name": "stdout",
     "output_type": "stream",
     "text": [
      "Linear simulation data generated.\n"
     ]
    },
    {
     "data": {
      "application/vnd.jupyter.widget-view+json": {
       "model_id": "598307c177284658a1c36f964c6c1951",
       "version_major": 2,
       "version_minor": 0
      },
      "text/plain": [
       "  0%|          | 0/5100 [00:00<?, ?it/s]"
      ]
     },
     "metadata": {},
     "output_type": "display_data"
    },
    {
     "data": {
      "application/vnd.jupyter.widget-view+json": {
       "model_id": "23f98629ea104cd8bb61f0166c0ef966",
       "version_major": 2,
       "version_minor": 0
      },
      "text/plain": [
       "  0%|          | 0/5100 [00:00<?, ?it/s]"
      ]
     },
     "metadata": {},
     "output_type": "display_data"
    },
    {
     "data": {
      "application/vnd.jupyter.widget-view+json": {
       "model_id": "d3f71cff62c74846bfb6f165b64d2ed1",
       "version_major": 2,
       "version_minor": 0
      },
      "text/plain": [
       "  0%|          | 0/5100 [00:00<?, ?it/s]"
      ]
     },
     "metadata": {},
     "output_type": "display_data"
    },
    {
     "data": {
      "application/vnd.jupyter.widget-view+json": {
       "model_id": "fb27f9684fec4808bfcbc43aa12df57a",
       "version_major": 2,
       "version_minor": 0
      },
      "text/plain": [
       "  0%|          | 0/5100 [00:00<?, ?it/s]"
      ]
     },
     "metadata": {},
     "output_type": "display_data"
    },
    {
     "name": "stdout",
     "output_type": "stream",
     "text": [
      "Linear simulation data generated.\n"
     ]
    },
    {
     "data": {
      "application/vnd.jupyter.widget-view+json": {
       "model_id": "815410bec0304b22b087123f675d8700",
       "version_major": 2,
       "version_minor": 0
      },
      "text/plain": [
       "  0%|          | 0/5100 [00:00<?, ?it/s]"
      ]
     },
     "metadata": {},
     "output_type": "display_data"
    },
    {
     "data": {
      "application/vnd.jupyter.widget-view+json": {
       "model_id": "6006137c9c3a458cb6d863489b2bc228",
       "version_major": 2,
       "version_minor": 0
      },
      "text/plain": [
       "  0%|          | 0/5100 [00:00<?, ?it/s]"
      ]
     },
     "metadata": {},
     "output_type": "display_data"
    },
    {
     "data": {
      "application/vnd.jupyter.widget-view+json": {
       "model_id": "f5186f063bb24db997b2c5ebc68fcdf8",
       "version_major": 2,
       "version_minor": 0
      },
      "text/plain": [
       "  0%|          | 0/5100 [00:00<?, ?it/s]"
      ]
     },
     "metadata": {},
     "output_type": "display_data"
    },
    {
     "data": {
      "application/vnd.jupyter.widget-view+json": {
       "model_id": "077029fc4550489f82a1a3c95f05881e",
       "version_major": 2,
       "version_minor": 0
      },
      "text/plain": [
       "  0%|          | 0/5100 [00:00<?, ?it/s]"
      ]
     },
     "metadata": {},
     "output_type": "display_data"
    },
    {
     "name": "stdout",
     "output_type": "stream",
     "text": [
      "Linear simulation data generated.\n"
     ]
    },
    {
     "data": {
      "application/vnd.jupyter.widget-view+json": {
       "model_id": "41b321558b934e2b9a621d4abb2d554f",
       "version_major": 2,
       "version_minor": 0
      },
      "text/plain": [
       "  0%|          | 0/5100 [00:00<?, ?it/s]"
      ]
     },
     "metadata": {},
     "output_type": "display_data"
    },
    {
     "data": {
      "application/vnd.jupyter.widget-view+json": {
       "model_id": "bd81ba9da9754d61a73e3f6b337bf053",
       "version_major": 2,
       "version_minor": 0
      },
      "text/plain": [
       "  0%|          | 0/5100 [00:00<?, ?it/s]"
      ]
     },
     "metadata": {},
     "output_type": "display_data"
    },
    {
     "data": {
      "application/vnd.jupyter.widget-view+json": {
       "model_id": "38518f64088d49748caea06586d4b5ea",
       "version_major": 2,
       "version_minor": 0
      },
      "text/plain": [
       "  0%|          | 0/5100 [00:00<?, ?it/s]"
      ]
     },
     "metadata": {},
     "output_type": "display_data"
    },
    {
     "data": {
      "application/vnd.jupyter.widget-view+json": {
       "model_id": "d7c959be09bd4f1394263151a8931f9c",
       "version_major": 2,
       "version_minor": 0
      },
      "text/plain": [
       "  0%|          | 0/5100 [00:00<?, ?it/s]"
      ]
     },
     "metadata": {},
     "output_type": "display_data"
    },
    {
     "name": "stdout",
     "output_type": "stream",
     "text": [
      "Linear simulation data generated.\n"
     ]
    },
    {
     "data": {
      "application/vnd.jupyter.widget-view+json": {
       "model_id": "6ac9bc2d894c4b80a864ed85d0b4f47b",
       "version_major": 2,
       "version_minor": 0
      },
      "text/plain": [
       "  0%|          | 0/5100 [00:00<?, ?it/s]"
      ]
     },
     "metadata": {},
     "output_type": "display_data"
    },
    {
     "data": {
      "application/vnd.jupyter.widget-view+json": {
       "model_id": "49427559da434ffaaf76adc526bda731",
       "version_major": 2,
       "version_minor": 0
      },
      "text/plain": [
       "  0%|          | 0/5100 [00:00<?, ?it/s]"
      ]
     },
     "metadata": {},
     "output_type": "display_data"
    },
    {
     "data": {
      "application/vnd.jupyter.widget-view+json": {
       "model_id": "26936a87c40c447bb5382c13e41b173b",
       "version_major": 2,
       "version_minor": 0
      },
      "text/plain": [
       "  0%|          | 0/5100 [00:00<?, ?it/s]"
      ]
     },
     "metadata": {},
     "output_type": "display_data"
    },
    {
     "data": {
      "application/vnd.jupyter.widget-view+json": {
       "model_id": "2c52251d09c8482abb0aeb686907279b",
       "version_major": 2,
       "version_minor": 0
      },
      "text/plain": [
       "  0%|          | 0/5100 [00:00<?, ?it/s]"
      ]
     },
     "metadata": {},
     "output_type": "display_data"
    },
    {
     "name": "stdout",
     "output_type": "stream",
     "text": [
      "Linear simulation data generated.\n"
     ]
    },
    {
     "data": {
      "application/vnd.jupyter.widget-view+json": {
       "model_id": "24703766fb6b49c8b427f92f77fea5b3",
       "version_major": 2,
       "version_minor": 0
      },
      "text/plain": [
       "  0%|          | 0/5100 [00:00<?, ?it/s]"
      ]
     },
     "metadata": {},
     "output_type": "display_data"
    },
    {
     "data": {
      "application/vnd.jupyter.widget-view+json": {
       "model_id": "b7f781ccf2fc484797b44e42261435bc",
       "version_major": 2,
       "version_minor": 0
      },
      "text/plain": [
       "  0%|          | 0/5100 [00:00<?, ?it/s]"
      ]
     },
     "metadata": {},
     "output_type": "display_data"
    },
    {
     "data": {
      "application/vnd.jupyter.widget-view+json": {
       "model_id": "b4823f4673ca48d8a29fbc0563eae975",
       "version_major": 2,
       "version_minor": 0
      },
      "text/plain": [
       "  0%|          | 0/5100 [00:00<?, ?it/s]"
      ]
     },
     "metadata": {},
     "output_type": "display_data"
    },
    {
     "data": {
      "application/vnd.jupyter.widget-view+json": {
       "model_id": "904654bcfef9459f91b52182a2d8c57f",
       "version_major": 2,
       "version_minor": 0
      },
      "text/plain": [
       "  0%|          | 0/5100 [00:00<?, ?it/s]"
      ]
     },
     "metadata": {},
     "output_type": "display_data"
    },
    {
     "name": "stdout",
     "output_type": "stream",
     "text": [
      "Linear simulation data generated.\n"
     ]
    },
    {
     "data": {
      "application/vnd.jupyter.widget-view+json": {
       "model_id": "3f35713f7f1045359c4c4be1aefd6e21",
       "version_major": 2,
       "version_minor": 0
      },
      "text/plain": [
       "  0%|          | 0/5100 [00:00<?, ?it/s]"
      ]
     },
     "metadata": {},
     "output_type": "display_data"
    },
    {
     "data": {
      "application/vnd.jupyter.widget-view+json": {
       "model_id": "32e5ae283292498c8022963a2736b796",
       "version_major": 2,
       "version_minor": 0
      },
      "text/plain": [
       "  0%|          | 0/5100 [00:00<?, ?it/s]"
      ]
     },
     "metadata": {},
     "output_type": "display_data"
    },
    {
     "data": {
      "application/vnd.jupyter.widget-view+json": {
       "model_id": "c7946b2bc08d464895e1057079c503f2",
       "version_major": 2,
       "version_minor": 0
      },
      "text/plain": [
       "  0%|          | 0/5100 [00:00<?, ?it/s]"
      ]
     },
     "metadata": {},
     "output_type": "display_data"
    },
    {
     "data": {
      "application/vnd.jupyter.widget-view+json": {
       "model_id": "090b1a2040ee4ce1b6df1e2d45cdbf51",
       "version_major": 2,
       "version_minor": 0
      },
      "text/plain": [
       "  0%|          | 0/5100 [00:00<?, ?it/s]"
      ]
     },
     "metadata": {},
     "output_type": "display_data"
    },
    {
     "name": "stdout",
     "output_type": "stream",
     "text": [
      "Linear simulation data generated.\n"
     ]
    },
    {
     "data": {
      "application/vnd.jupyter.widget-view+json": {
       "model_id": "a749e29478584b409c71497297fdfaa0",
       "version_major": 2,
       "version_minor": 0
      },
      "text/plain": [
       "  0%|          | 0/5100 [00:00<?, ?it/s]"
      ]
     },
     "metadata": {},
     "output_type": "display_data"
    },
    {
     "data": {
      "application/vnd.jupyter.widget-view+json": {
       "model_id": "5960c6be994049699c0e601225e87c41",
       "version_major": 2,
       "version_minor": 0
      },
      "text/plain": [
       "  0%|          | 0/5100 [00:00<?, ?it/s]"
      ]
     },
     "metadata": {},
     "output_type": "display_data"
    },
    {
     "data": {
      "application/vnd.jupyter.widget-view+json": {
       "model_id": "ea52c007ded2406db683bb9cc22f765a",
       "version_major": 2,
       "version_minor": 0
      },
      "text/plain": [
       "  0%|          | 0/5100 [00:00<?, ?it/s]"
      ]
     },
     "metadata": {},
     "output_type": "display_data"
    },
    {
     "data": {
      "application/vnd.jupyter.widget-view+json": {
       "model_id": "aba803453d204a5baa305d49c1956e24",
       "version_major": 2,
       "version_minor": 0
      },
      "text/plain": [
       "  0%|          | 0/5100 [00:00<?, ?it/s]"
      ]
     },
     "metadata": {},
     "output_type": "display_data"
    },
    {
     "name": "stdout",
     "output_type": "stream",
     "text": [
      "Linear simulation data generated.\n"
     ]
    },
    {
     "data": {
      "application/vnd.jupyter.widget-view+json": {
       "model_id": "85616f857a874000b148d2dda5bb892c",
       "version_major": 2,
       "version_minor": 0
      },
      "text/plain": [
       "  0%|          | 0/5100 [00:00<?, ?it/s]"
      ]
     },
     "metadata": {},
     "output_type": "display_data"
    },
    {
     "data": {
      "application/vnd.jupyter.widget-view+json": {
       "model_id": "6230a2612f914e49804568c5cae8d8e4",
       "version_major": 2,
       "version_minor": 0
      },
      "text/plain": [
       "  0%|          | 0/5100 [00:00<?, ?it/s]"
      ]
     },
     "metadata": {},
     "output_type": "display_data"
    },
    {
     "data": {
      "application/vnd.jupyter.widget-view+json": {
       "model_id": "1839e9cba6384f88b56ef92a17091a55",
       "version_major": 2,
       "version_minor": 0
      },
      "text/plain": [
       "  0%|          | 0/5100 [00:00<?, ?it/s]"
      ]
     },
     "metadata": {},
     "output_type": "display_data"
    },
    {
     "data": {
      "application/vnd.jupyter.widget-view+json": {
       "model_id": "bc6fab9c50ba4494bb70b6bcccf4b8a0",
       "version_major": 2,
       "version_minor": 0
      },
      "text/plain": [
       "  0%|          | 0/5100 [00:00<?, ?it/s]"
      ]
     },
     "metadata": {},
     "output_type": "display_data"
    },
    {
     "name": "stdout",
     "output_type": "stream",
     "text": [
      "Linear simulation data generated.\n"
     ]
    },
    {
     "data": {
      "application/vnd.jupyter.widget-view+json": {
       "model_id": "bd85ef5752a147e0a0e615335dd8c766",
       "version_major": 2,
       "version_minor": 0
      },
      "text/plain": [
       "  0%|          | 0/5100 [00:00<?, ?it/s]"
      ]
     },
     "metadata": {},
     "output_type": "display_data"
    },
    {
     "data": {
      "application/vnd.jupyter.widget-view+json": {
       "model_id": "9324e6982d1b4ca09b5e2399384243dd",
       "version_major": 2,
       "version_minor": 0
      },
      "text/plain": [
       "  0%|          | 0/5100 [00:00<?, ?it/s]"
      ]
     },
     "metadata": {},
     "output_type": "display_data"
    },
    {
     "data": {
      "application/vnd.jupyter.widget-view+json": {
       "model_id": "7a6cb889823240298ec7e37f06aac5a4",
       "version_major": 2,
       "version_minor": 0
      },
      "text/plain": [
       "  0%|          | 0/5100 [00:00<?, ?it/s]"
      ]
     },
     "metadata": {},
     "output_type": "display_data"
    },
    {
     "data": {
      "application/vnd.jupyter.widget-view+json": {
       "model_id": "d889f0f85b344207b7e3ff5ac6db5e16",
       "version_major": 2,
       "version_minor": 0
      },
      "text/plain": [
       "  0%|          | 0/5100 [00:00<?, ?it/s]"
      ]
     },
     "metadata": {},
     "output_type": "display_data"
    },
    {
     "name": "stdout",
     "output_type": "stream",
     "text": [
      "Linear simulation data generated.\n"
     ]
    },
    {
     "data": {
      "application/vnd.jupyter.widget-view+json": {
       "model_id": "46953536b6ac49ad9703beb92dab72b8",
       "version_major": 2,
       "version_minor": 0
      },
      "text/plain": [
       "  0%|          | 0/5100 [00:00<?, ?it/s]"
      ]
     },
     "metadata": {},
     "output_type": "display_data"
    },
    {
     "data": {
      "application/vnd.jupyter.widget-view+json": {
       "model_id": "3a118c7f880746e1b8685c0c72a7b373",
       "version_major": 2,
       "version_minor": 0
      },
      "text/plain": [
       "  0%|          | 0/5100 [00:00<?, ?it/s]"
      ]
     },
     "metadata": {},
     "output_type": "display_data"
    },
    {
     "data": {
      "application/vnd.jupyter.widget-view+json": {
       "model_id": "fc9975f5028e485ba393de463e1a8ee0",
       "version_major": 2,
       "version_minor": 0
      },
      "text/plain": [
       "  0%|          | 0/5100 [00:00<?, ?it/s]"
      ]
     },
     "metadata": {},
     "output_type": "display_data"
    },
    {
     "data": {
      "application/vnd.jupyter.widget-view+json": {
       "model_id": "868da5c003754e30ab9dbd6b2ae9164e",
       "version_major": 2,
       "version_minor": 0
      },
      "text/plain": [
       "  0%|          | 0/5100 [00:00<?, ?it/s]"
      ]
     },
     "metadata": {},
     "output_type": "display_data"
    }
   ],
   "source": [
    "# Do this on a loop for different input sigma values\n",
    "true_sigmas = np.linspace(0, 10, 10)\n",
    "mean_sigma = []\n",
    "for sigma in true_sigmas:\n",
    "    parameters = [1, 1, sigma]\n",
    "    dataset_manager.simulate_data(x, parameters, simulation_name)\n",
    "    simulated_data = dataset_manager.get_data()\n",
    "    mcmc.run(rng_key,\n",
    "             x,\n",
    "             exponential,\n",
    "             y = simulated_data['Target'].values)\n",
    "    posterior_samples = mcmc.get_samples()\n",
    "    mean_sigma.append(np.mean(posterior_samples[\"σ\"]))"
   ]
  },
  {
   "cell_type": "code",
   "execution_count": 39,
   "id": "e722aef3-a62c-47d0-b9c9-870da314008c",
   "metadata": {},
   "outputs": [
    {
     "data": {
      "image/png": "[encoded data removed]",
      "text/plain": [
       "<Figure size 640x480 with 1 Axes>"
      ]
     },
     "metadata": {},
     "output_type": "display_data"
    }
   ],
   "source": [
    "plt.clf()\n",
    "plt.scatter(true_sigmas, mean_sigma)\n",
    "plt.xlabel('true sigma value')\n",
    "plt.ylabel('machine output mean sigma from posterior')\n",
    "plt.xlim([0,10])\n",
    "plt.ylim([0,10])\n",
    "plt.show()"
   ]
  },
  {
   "cell_type": "code",
   "execution_count": null,
   "id": "b663f0dd-ef61-40bc-863d-58636b393ea4",
   "metadata": {},
   "outputs": [],
   "source": []
  }
 ],
 "metadata": {
  "kernelspec": {
   "display_name": "Python 3 (ipykernel)",
   "language": "python",
   "name": "python3"
  },
  "language_info": {
   "codemirror_mode": {
    "name": "ipython",
    "version": 3
   },
   "file_extension": ".py",
   "mimetype": "text/x-python",
   "name": "python",
   "nbconvert_exporter": "python",
   "pygments_lexer": "ipython3",
   "version": "3.9.12"
  }
 },
 "nbformat": 4,
 "nbformat_minor": 5
}
