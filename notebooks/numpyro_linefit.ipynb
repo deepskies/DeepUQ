{
 "cells": [
  {
   "cell_type": "markdown",
   "id": "f774193d",
   "metadata": {},
   "source": [
    "# Sampling Bayesian Inference for the parameters of a line fit"
   ]
  },
  {
   "cell_type": "markdown",
   "id": "84559556-666d-4c97-910f-7cbffea8c9a4",
   "metadata": {},
   "source": [
    "## 1 Import all the things"
   ]
  },
  {
   "cell_type": "code",
   "execution_count": 3,
   "id": "5e8c8f57",
   "metadata": {},
   "outputs": [],
   "source": [
    "import numpy as np\n",
    "import matplotlib.pyplot as plt\n",
    "from sklearn.model_selection import train_test_split\n",
    "from sklearn.preprocessing import StandardScaler\n",
    "import torch\n",
    "import torch.nn as nn\n",
    "from torch.utils.data import DataLoader, TensorDataset"
   ]
  },
  {
   "cell_type": "code",
   "execution_count": 4,
   "id": "2fa611df",
   "metadata": {},
   "outputs": [],
   "source": [
    "## first, import all the necessary modules\n",
    "import arviz as az\n",
    "import corner\n",
    "import graphviz\n",
    "import jax\n",
    "from jax import random\n",
    "import jax.numpy as jnp # yes i know this is confusing\n",
    "import matplotlib.pyplot as plt\n",
    "import numpy as np\n",
    "import numpyro\n",
    "\n",
    "## in numpyro, you must specify number of sampling chains you will use upfront\n",
    "\n",
    "# words of wisdom from Tian Li and crew:\n",
    "# on gpu, don't use conda, use pip install\n",
    "# HMC after SBI to look at degeneracies between params\n",
    "# different guides (some are slower but better at showing degeneracies)\n",
    "\n",
    "## define the platform and number of cores (one chain per core)\n",
    "numpyro.set_platform('cpu')\n",
    "core_num = 4\n",
    "numpyro.set_host_device_count(core_num)\n",
    "\n",
    "import numpyro.distributions as dist\n",
    "from numpyro.infer import MCMC, NUTS\n",
    "import pandas as pd\n",
    "from sklearn.preprocessing import LabelEncoder"
   ]
  },
  {
   "cell_type": "code",
   "execution_count": 5,
   "id": "df535a12-c8bf-46eb-a575-12deafb1109b",
   "metadata": {},
   "outputs": [],
   "source": [
    "import sys\n",
    "sys.path.append('..')\n",
    "from src.scripts import train, models, analysis, utils"
   ]
  },
  {
   "cell_type": "markdown",
   "id": "b6015d5b-45be-45eb-b1eb-e3502e1ed7f6",
   "metadata": {},
   "source": [
    "## 2 Make the data"
   ]
  },
  {
   "cell_type": "code",
   "execution_count": 6,
   "id": "836e5e3d-1daf-44ff-9639-c776d1b9cb14",
   "metadata": {},
   "outputs": [],
   "source": [
    "def simulator(thetas):#, percent_errors):\n",
    "    # just plop the pendulum within here\n",
    "    m, b = thetas\n",
    "    x = np.linspace(0, 100, 101)\n",
    "    rs = np.random.RandomState()#2147483648)# \n",
    "    sigma = 10\n",
    "    ε = rs.normal(loc=0, scale=sigma, size = len(x)) \n",
    "    return m * x + b + ε"
   ]
  },
  {
   "cell_type": "code",
   "execution_count": 8,
   "id": "44803dbf-a597-4a5b-8f22-7ec2f9f4ac77",
   "metadata": {},
   "outputs": [],
   "source": [
    "length_df = 1000\n",
    "xs = np.zeros((length_df, 2))\n",
    "ys = []\n",
    "#true_sigmas = []\n",
    "\n",
    "for r in range(length_df):\n",
    "    rs = np.random.RandomState()#2147483648)# \n",
    "    m = rs.normal(loc=1, scale=1)\n",
    "    b = rs.normal(loc=0, scale=10)\n",
    "    thetas = [m, b]\n",
    "    xs[r,:] = thetas\n",
    "    ys.append(simulator(thetas))"
   ]
  },
  {
   "cell_type": "code",
   "execution_count": null,
   "id": "3e1fa82c-b539-4861-9482-f73bf405d5c4",
   "metadata": {},
   "outputs": [],
   "source": []
  },
  {
   "cell_type": "markdown",
   "id": "10fdf711-938f-4435-8e4b-cf7d233088f7",
   "metadata": {},
   "source": [
    "## 3 Define the model"
   ]
  },
  {
   "cell_type": "code",
   "execution_count": 10,
   "id": "26d55129-a7d1-414d-85db-ed0d4a142f29",
   "metadata": {},
   "outputs": [],
   "source": [
    "def linefit_model(xs,\n",
    "                  y=None):\n",
    "    m = numpyro.sample(\"m\", dist.TruncatedNormal(5, 2, low = 0.01))\n",
    "    b = numpyro.sample(\"b\", dist.Normal(0, 5))\n",
    "    σ = 10\n",
    "    #numpyro.sample(\"σ\", dist.Exponential(exponential))\n",
    "    modelx = m * xs + b \n",
    "    pos = numpyro.sample(\"obs\", dist.Normal(modelx, σ), obs=y)\n",
    "\n",
    "def hierarchical_model(planet_code,\n",
    "                       pendulum_code,\n",
    "                       times,\n",
    "                       exponential,\n",
    "                       pos_obs=None):\n",
    "    μ_a_g = numpyro.sample(\"μ_a_g\", dist.TruncatedNormal(12.5, 5, low=0.01))\n",
    "    # scale parameters should be log uniform so that they don't go negative \n",
    "    # and so that they're not uniform\n",
    "    # 1 / x in linear space\n",
    "    σ_a_g = numpyro.sample(\"σ_a_g\", dist.TruncatedNormal(0.1, 0.01, low=0.01))\n",
    "    n_planets = len(np.unique(planet_code))\n",
    "    n_pendulums = len(np.unique(pendulum_code))\n",
    "\n",
    "    ## plates are a numpyro primitive or context manager for handing conditionally independence\n",
    "    ## for instance, we wish to model a_g for each planet independently\n",
    "    with numpyro.plate(\"planet_i\", n_planets):\n",
    "        a_g = numpyro.sample(\"a_g\", dist.TruncatedNormal(μ_a_g, σ_a_g,\n",
    "                                                         low=0.01))\n",
    "        # helps because a_gs are being pulled from same normal dist\n",
    "        # removes dependency of a_g on sigma_a_g on a prior level\n",
    "        # removing one covariance from model, model is easier\n",
    "        # to sample from\n",
    "    \n",
    "    ## we also wish to model L and theta for each pendulum independently\n",
    "    ## here we draw from an uniform distribution\n",
    "    with numpyro.plate(\"pend_i\", n_pendulums):\n",
    "        L = numpyro.sample(\"L\", dist.TruncatedNormal(5, 2, low=0.01))\n",
    "        theta = numpyro.sample(\"theta\", dist.TruncatedNormal(jnp.pi/100,\n",
    "                                                             jnp.pi/500,\n",
    "                                                             low=0.00001))\n",
    "\n",
    "    ## σ is the error on the position measurement for each moment in time\n",
    "    ## we also model this\n",
    "    ## eventually, we should also model the error on each parameter independently?\n",
    "    ## draw from an exponential distribution parameterized by a rate parameter\n",
    "    ## the mean of an exponential distribution is 1/r where r is the rate parameter\n",
    "    ## exponential distributions are never negative. This is good for error.\n",
    "    σ = numpyro.sample(\"σ\", dist.Exponential(exponential))\n",
    "    \n",
    "    ## the moments in time are not independent, so we do not place the following in a plate\n",
    "    ## instead, the brackets segment the model by pendulum and by planet,\n",
    "    ## telling us how to conduct the inference\n",
    "    modelx = L[pendulum_code] * jnp.sin(theta[pendulum_code] * jnp.cos(jnp.sqrt(a_g[planet_code] / L[pendulum_code]) * times))\n",
    "    ## don't forget to use jnp instead of np so jax knows what to do\n",
    "    ## A BIG QUESTION I STILL HAVE IS WHAT IS THE LIKELIHOOD? IS IT JUST SAMPLED FROM?\n",
    "    ## again, for each pendulum we compare the observed to the modeled position:\n",
    "    with numpyro.plate(\"data\", len(pendulum_code)):\n",
    "        pos = numpyro.sample(\"obs\", dist.Normal(modelx, σ), obs=pos_obs)\n",
    "\n",
    "\n",
    "def unpooled_model(planet_code,\n",
    "                   pendulum_code,\n",
    "                   times,\n",
    "                   exponential,\n",
    "                   pos_obs=None):\n",
    "    n_planets = len(np.unique(planet_code))\n",
    "    n_pendulums = len(np.unique(pendulum_code))\n",
    "    with numpyro.plate(\"planet_i\", n_planets):\n",
    "        a_g = numpyro.sample(\"a_g\", dist.TruncatedNormal(12.5, 5,\n",
    "                                                         low=0, high=25))\n",
    "    with numpyro.plate(\"pend_i\", n_pendulums):\n",
    "        L = numpyro.sample(\"L\", dist.TruncatedNormal(5, 2, low = 0.01))\n",
    "        theta = numpyro.sample(\"theta\", dist.TruncatedNormal(jnp.pi/100,\n",
    "                                                             jnp.pi/500,\n",
    "                                                             low=0.00001))\n",
    "    σ = numpyro.sample(\"σ\", dist.Exponential(exponential))\n",
    "    modelx = L[pendulum_code] * jnp.sin(theta[pendulum_code] *\n",
    "                         jnp.cos(jnp.sqrt(a_g[planet_code] / L[pendulum_code]) * times))\n",
    "    with numpyro.plate(\"data\", len(pendulum_code)):\n",
    "        pos = numpyro.sample(\"obs\", dist.Normal(modelx, σ), obs=pos_obs)\n"
   ]
  },
  {
   "cell_type": "code",
   "execution_count": 13,
   "id": "6da1775e-d630-4150-b419-1592eaa7e753",
   "metadata": {},
   "outputs": [
    {
     "ename": "ValueError",
     "evalue": "The truth value of an array with more than one element is ambiguous. Use a.any() or a.all()",
     "output_type": "error",
     "traceback": [
      "\u001b[0;31m---------------------------------------------------------------------------\u001b[0m",
      "\u001b[0;31mValueError\u001b[0m                                Traceback (most recent call last)",
      "Cell \u001b[0;32mIn[13], line 1\u001b[0m\n\u001b[0;32m----> 1\u001b[0m \u001b[43mnumpyro\u001b[49m\u001b[38;5;241;43m.\u001b[39;49m\u001b[43mrender_model\u001b[49m\u001b[43m(\u001b[49m\n\u001b[1;32m      2\u001b[0m \u001b[43m    \u001b[49m\u001b[43mmodel\u001b[49m\u001b[38;5;241;43m=\u001b[39;49m\u001b[43mlinefit_model\u001b[49m\u001b[43m,\u001b[49m\n\u001b[1;32m      3\u001b[0m \u001b[43m    \u001b[49m\u001b[43mmodel_args\u001b[49m\u001b[38;5;241;43m=\u001b[39;49m\u001b[43mxs\u001b[49m\u001b[43m,\u001b[49m\n\u001b[1;32m      4\u001b[0m \u001b[43m    \u001b[49m\u001b[43mrender_distributions\u001b[49m\u001b[38;5;241;43m=\u001b[39;49m\u001b[38;5;28;43;01mTrue\u001b[39;49;00m\u001b[43m,\u001b[49m\n\u001b[1;32m      5\u001b[0m \u001b[43m    \u001b[49m\u001b[43mrender_params\u001b[49m\u001b[38;5;241;43m=\u001b[39;49m\u001b[38;5;28;43;01mTrue\u001b[39;49;00m\u001b[43m,\u001b[49m\n\u001b[1;32m      6\u001b[0m \u001b[43m)\u001b[49m\n",
      "File \u001b[0;32m~/Library/Caches/pypoetry/virtualenvs/deepuq-DRzT0TL8-py3.9/lib/python3.9/site-packages/numpyro/infer/inspect.py:623\u001b[0m, in \u001b[0;36mrender_model\u001b[0;34m(model, model_args, model_kwargs, filename, render_distributions, render_params)\u001b[0m\n\u001b[1;32m    600\u001b[0m \u001b[38;5;28;01mdef\u001b[39;00m \u001b[38;5;21mrender_model\u001b[39m(\n\u001b[1;32m    601\u001b[0m     model,\n\u001b[1;32m    602\u001b[0m     model_args\u001b[38;5;241m=\u001b[39m\u001b[38;5;28;01mNone\u001b[39;00m,\n\u001b[0;32m   (...)\u001b[0m\n\u001b[1;32m    606\u001b[0m     render_params\u001b[38;5;241m=\u001b[39m\u001b[38;5;28;01mFalse\u001b[39;00m,\n\u001b[1;32m    607\u001b[0m ):\n\u001b[1;32m    608\u001b[0m \u001b[38;5;250m    \u001b[39m\u001b[38;5;124;03m\"\"\"\u001b[39;00m\n\u001b[1;32m    609\u001b[0m \u001b[38;5;124;03m    Wrap all functions needed to automatically render a model.\u001b[39;00m\n\u001b[1;32m    610\u001b[0m \n\u001b[0;32m   (...)\u001b[0m\n\u001b[1;32m    621\u001b[0m \u001b[38;5;124;03m    :param bool render_params: Whether to show params in the plot.\u001b[39;00m\n\u001b[1;32m    622\u001b[0m \u001b[38;5;124;03m    \"\"\"\u001b[39;00m\n\u001b[0;32m--> 623\u001b[0m     relations \u001b[38;5;241m=\u001b[39m \u001b[43mget_model_relations\u001b[49m\u001b[43m(\u001b[49m\n\u001b[1;32m    624\u001b[0m \u001b[43m        \u001b[49m\u001b[43mmodel\u001b[49m\u001b[43m,\u001b[49m\n\u001b[1;32m    625\u001b[0m \u001b[43m        \u001b[49m\u001b[43mmodel_args\u001b[49m\u001b[38;5;241;43m=\u001b[39;49m\u001b[43mmodel_args\u001b[49m\u001b[43m,\u001b[49m\n\u001b[1;32m    626\u001b[0m \u001b[43m        \u001b[49m\u001b[43mmodel_kwargs\u001b[49m\u001b[38;5;241;43m=\u001b[39;49m\u001b[43mmodel_kwargs\u001b[49m\u001b[43m,\u001b[49m\n\u001b[1;32m    627\u001b[0m \u001b[43m    \u001b[49m\u001b[43m)\u001b[49m\n\u001b[1;32m    628\u001b[0m     graph_spec \u001b[38;5;241m=\u001b[39m generate_graph_specification(relations, render_params\u001b[38;5;241m=\u001b[39mrender_params)\n\u001b[1;32m    629\u001b[0m     graph \u001b[38;5;241m=\u001b[39m render_graph(graph_spec, render_distributions\u001b[38;5;241m=\u001b[39mrender_distributions)\n",
      "File \u001b[0;32m~/Library/Caches/pypoetry/virtualenvs/deepuq-DRzT0TL8-py3.9/lib/python3.9/site-packages/numpyro/infer/inspect.py:294\u001b[0m, in \u001b[0;36mget_model_relations\u001b[0;34m(model, model_args, model_kwargs)\u001b[0m\n\u001b[1;32m    255\u001b[0m \u001b[38;5;28;01mdef\u001b[39;00m \u001b[38;5;21mget_model_relations\u001b[39m(model, model_args\u001b[38;5;241m=\u001b[39m\u001b[38;5;28;01mNone\u001b[39;00m, model_kwargs\u001b[38;5;241m=\u001b[39m\u001b[38;5;28;01mNone\u001b[39;00m):\n\u001b[1;32m    256\u001b[0m \u001b[38;5;250m    \u001b[39m\u001b[38;5;124;03m\"\"\"\u001b[39;00m\n\u001b[1;32m    257\u001b[0m \u001b[38;5;124;03m    Infer relations of RVs and plates from given model and optionally data.\u001b[39;00m\n\u001b[1;32m    258\u001b[0m \u001b[38;5;124;03m    See https://github.com/pyro-ppl/numpyro/issues/949 for more details.\u001b[39;00m\n\u001b[0;32m   (...)\u001b[0m\n\u001b[1;32m    292\u001b[0m \u001b[38;5;124;03m    :rtype: dict\u001b[39;00m\n\u001b[1;32m    293\u001b[0m \u001b[38;5;124;03m    \"\"\"\u001b[39;00m\n\u001b[0;32m--> 294\u001b[0m     model_args \u001b[38;5;241m=\u001b[39m model_args \u001b[38;5;129;01mor\u001b[39;00m ()\n\u001b[1;32m    295\u001b[0m     model_kwargs \u001b[38;5;241m=\u001b[39m model_kwargs \u001b[38;5;129;01mor\u001b[39;00m {}\n\u001b[1;32m    297\u001b[0m     \u001b[38;5;28;01mdef\u001b[39;00m \u001b[38;5;21m_get_dist_name\u001b[39m(fn):\n",
      "\u001b[0;31mValueError\u001b[0m: The truth value of an array with more than one element is ambiguous. Use a.any() or a.all()"
     ]
    }
   ],
   "source": [
    "numpyro.render_model(\n",
    "    model=linefit_model,\n",
    "    model_args=xs,\n",
    "    render_distributions=True,\n",
    "    render_params=True,\n",
    ")"
   ]
  },
  {
   "cell_type": "markdown",
   "id": "f8eccbf9-30f6-4714-a34b-1ba735bcdc98",
   "metadata": {},
   "source": [
    "## 4 Do the sampling\n",
    "To do this first make some true values."
   ]
  },
  {
   "cell_type": "code",
   "execution_count": 20,
   "id": "db72ad72-6f89-4c71-a1cd-fcbe502b73bd",
   "metadata": {},
   "outputs": [],
   "source": [
    "true_thetas = [1, 5]\n",
    "xs = np.linspace(0, 100, 101)\n",
    "ys = simulator(true_thetas)"
   ]
  },
  {
   "cell_type": "code",
   "execution_count": 21,
   "id": "8dc505c7-61d3-45a6-9768-b26faaf8acec",
   "metadata": {},
   "outputs": [
    {
     "data": {
      "application/vnd.jupyter.widget-view+json": {
       "model_id": "4189e74c831643e8891f6c8f07c225dc",
       "version_major": 2,
       "version_minor": 0
      },
      "text/plain": [
       "  0%|          | 0/5100 [00:00<?, ?it/s]"
      ]
     },
     "metadata": {},
     "output_type": "display_data"
    },
    {
     "data": {
      "application/vnd.jupyter.widget-view+json": {
       "model_id": "f11c0f846a5e4cfcaf576d592003bd70",
       "version_major": 2,
       "version_minor": 0
      },
      "text/plain": [
       "  0%|          | 0/5100 [00:00<?, ?it/s]"
      ]
     },
     "metadata": {},
     "output_type": "display_data"
    },
    {
     "data": {
      "application/vnd.jupyter.widget-view+json": {
       "model_id": "5f915510f08b47a5b4675e94d0c80442",
       "version_major": 2,
       "version_minor": 0
      },
      "text/plain": [
       "  0%|          | 0/5100 [00:00<?, ?it/s]"
      ]
     },
     "metadata": {},
     "output_type": "display_data"
    },
    {
     "data": {
      "application/vnd.jupyter.widget-view+json": {
       "model_id": "7b1edcc769e142cf839d35c4e091c5e0",
       "version_major": 2,
       "version_minor": 0
      },
      "text/plain": [
       "  0%|          | 0/5100 [00:00<?, ?it/s]"
      ]
     },
     "metadata": {},
     "output_type": "display_data"
    }
   ],
   "source": [
    "## the NUTS (no u-turn sampler) is a type of hamiltonian monte carlo\n",
    "## method, meaning it knows about potential energy (think gradients)\n",
    "nuts_kernel = NUTS(linefit_model, init_strategy = numpyro.infer.initialization.init_to_sample)#, target_accept_prob = 0.9)\n",
    "\n",
    "# can change the target acceptance probability\n",
    "# default is 0.8 80% \n",
    "mcmc = MCMC(nuts_kernel, num_samples=5000, num_warmup=100, num_chains = 4)\n",
    "rng_key = jax.random.PRNGKey(0)\n",
    "mcmc.run(rng_key, xs, y = ys)\n",
    "\n",
    "posterior_samples = mcmc.get_samples()"
   ]
  },
  {
   "cell_type": "code",
   "execution_count": 22,
   "id": "3a603bb4-bff6-49c6-be0f-f51cf12540c5",
   "metadata": {},
   "outputs": [
    {
     "name": "stdout",
     "output_type": "stream",
     "text": [
      "divergences: 0\n"
     ]
    },
    {
     "data": {
      "text/html": [
       "<div>\n",
       "<style scoped>\n",
       "    .dataframe tbody tr th:only-of-type {\n",
       "        vertical-align: middle;\n",
       "    }\n",
       "\n",
       "    .dataframe tbody tr th {\n",
       "        vertical-align: top;\n",
       "    }\n",
       "\n",
       "    .dataframe thead th {\n",
       "        text-align: right;\n",
       "    }\n",
       "</style>\n",
       "<table border=\"1\" class=\"dataframe\">\n",
       "  <thead>\n",
       "    <tr style=\"text-align: right;\">\n",
       "      <th></th>\n",
       "      <th>mean</th>\n",
       "      <th>sd</th>\n",
       "      <th>hdi_3%</th>\n",
       "      <th>hdi_97%</th>\n",
       "      <th>mcse_mean</th>\n",
       "      <th>mcse_sd</th>\n",
       "      <th>ess_bulk</th>\n",
       "      <th>ess_tail</th>\n",
       "      <th>r_hat</th>\n",
       "    </tr>\n",
       "  </thead>\n",
       "  <tbody>\n",
       "    <tr>\n",
       "      <th>b</th>\n",
       "      <td>2.534</td>\n",
       "      <td>1.812</td>\n",
       "      <td>-0.823</td>\n",
       "      <td>5.977</td>\n",
       "      <td>0.027</td>\n",
       "      <td>0.019</td>\n",
       "      <td>4630.0</td>\n",
       "      <td>5887.0</td>\n",
       "      <td>1.0</td>\n",
       "    </tr>\n",
       "    <tr>\n",
       "      <th>m</th>\n",
       "      <td>1.047</td>\n",
       "      <td>0.032</td>\n",
       "      <td>0.988</td>\n",
       "      <td>1.109</td>\n",
       "      <td>0.000</td>\n",
       "      <td>0.000</td>\n",
       "      <td>4694.0</td>\n",
       "      <td>5961.0</td>\n",
       "      <td>1.0</td>\n",
       "    </tr>\n",
       "  </tbody>\n",
       "</table>\n",
       "</div>"
      ],
      "text/plain": [
       "    mean     sd  hdi_3%  hdi_97%  mcse_mean  mcse_sd  ess_bulk  ess_tail  \\\n",
       "b  2.534  1.812  -0.823    5.977      0.027    0.019    4630.0    5887.0   \n",
       "m  1.047  0.032   0.988    1.109      0.000    0.000    4694.0    5961.0   \n",
       "\n",
       "   r_hat  \n",
       "b    1.0  \n",
       "m    1.0  "
      ]
     },
     "execution_count": 22,
     "metadata": {},
     "output_type": "execute_result"
    }
   ],
   "source": [
    "table, inf_data = utils.sampling_summary_table(mcmc)\n",
    "table"
   ]
  },
  {
   "cell_type": "code",
   "execution_count": 23,
   "id": "4a511b34-98f6-4182-b02b-bc1de6aeaac4",
   "metadata": {},
   "outputs": [
    {
     "data": {
      "text/plain": [
       "<Figure size 640x480 with 0 Axes>"
      ]
     },
     "metadata": {},
     "output_type": "display_data"
    },
    {
     "data": {
      "image/png": "[encoded data removed]",
      "text/plain": [
       "<Figure size 550x550 with 4 Axes>"
      ]
     },
     "metadata": {},
     "output_type": "display_data"
    }
   ],
   "source": [
    "# take a look at the posterior\n",
    "data = az.from_dict(\n",
    "    posterior={\"m\": posterior_samples[\"m\"][:], \"b\": posterior_samples[\"b\"][:]},\n",
    "#     sample_stats={\"diverging\": posterior[\"L\"][:,0] < 9.0},\n",
    ")\n",
    "plt.clf()\n",
    "figure = corner.corner(data, divergences=True, truths = true_thetas, truth_color = '#D84797')#,\n",
    "                       #range = [(5,20),(5,20),(5,20),(5,20),(5,20),(5,20),(5,20),(5,20)])\n",
    "plt.show()"
   ]
  },
  {
   "cell_type": "markdown",
   "id": "34c80304-7eea-44a0-8549-fb7aa2511726",
   "metadata": {},
   "source": []
  }
 ],
 "metadata": {
  "kernelspec": {
   "display_name": "Python 3 (ipykernel)",
   "language": "python",
   "name": "python3"
  },
  "language_info": {
   "codemirror_mode": {
    "name": "ipython",
    "version": 3
   },
   "file_extension": ".py",
   "mimetype": "text/x-python",
   "name": "python",
   "nbconvert_exporter": "python",
   "pygments_lexer": "ipython3",
   "version": "3.9.12"
  }
 },
 "nbformat": 4,
 "nbformat_minor": 5
}
