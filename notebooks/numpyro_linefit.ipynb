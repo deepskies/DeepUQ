{
 "cells": [
  {
   "cell_type": "markdown",
   "id": "f774193d",
   "metadata": {},
   "source": [
    "# Sampling Bayesian Inference for the parameters of a line fit"
   ]
  },
  {
   "cell_type": "markdown",
   "id": "84559556-666d-4c97-910f-7cbffea8c9a4",
   "metadata": {},
   "source": [
    "## 1 Import all the things"
   ]
  },
  {
   "cell_type": "code",
   "execution_count": 1,
   "id": "5e8c8f57",
   "metadata": {},
   "outputs": [],
   "source": [
    "import numpy as np\n",
    "import matplotlib.pyplot as plt\n",
    "from sklearn.model_selection import train_test_split\n",
    "from sklearn.preprocessing import StandardScaler\n",
    "import torch\n",
    "import torch.nn as nn\n",
    "from torch.utils.data import DataLoader, TensorDataset"
   ]
  },
  {
   "cell_type": "code",
   "execution_count": 2,
   "id": "2fa611df",
   "metadata": {},
   "outputs": [],
   "source": [
    "## first, import all the necessary modules\n",
    "import arviz as az\n",
    "import corner\n",
    "import graphviz\n",
    "import jax\n",
    "from jax import random\n",
    "import jax.numpy as jnp # yes i know this is confusing\n",
    "import matplotlib.pyplot as plt\n",
    "import numpy as np\n",
    "import numpyro\n",
    "\n",
    "## in numpyro, you must specify number of sampling chains you will use upfront\n",
    "\n",
    "# words of wisdom from Tian Li and crew:\n",
    "# on gpu, don't use conda, use pip install\n",
    "# HMC after SBI to look at degeneracies between params\n",
    "# different guides (some are slower but better at showing degeneracies)\n",
    "\n",
    "## define the platform and number of cores (one chain per core)\n",
    "numpyro.set_platform('cpu')\n",
    "core_num = 4\n",
    "numpyro.set_host_device_count(core_num)\n",
    "\n",
    "import numpyro.distributions as dist\n",
    "from numpyro.infer import MCMC, NUTS\n",
    "import pandas as pd\n",
    "from sklearn.preprocessing import LabelEncoder"
   ]
  },
  {
   "cell_type": "code",
   "execution_count": 18,
   "id": "df535a12-c8bf-46eb-a575-12deafb1109b",
   "metadata": {},
   "outputs": [],
   "source": [
    "import sys\n",
    "sys.path.append('..')\n",
    "from src.scripts import train, models, analysis, utils"
   ]
  },
  {
   "cell_type": "markdown",
   "id": "b6015d5b-45be-45eb-b1eb-e3502e1ed7f6",
   "metadata": {},
   "source": [
    "## 2 Make the data"
   ]
  },
  {
   "cell_type": "code",
   "execution_count": 7,
   "id": "836e5e3d-1daf-44ff-9639-c776d1b9cb14",
   "metadata": {},
   "outputs": [],
   "source": [
    "def simulator(thetas):#, percent_errors):\n",
    "    # just plop the pendulum within here\n",
    "    m, b, sigma = thetas\n",
    "    x = np.linspace(0, 100, 101)\n",
    "    rs = np.random.RandomState()#2147483648)# \n",
    "    ε = rs.normal(loc=0, scale=sigma, size = len(x)) \n",
    "    return m * x + b + ε"
   ]
  },
  {
   "cell_type": "code",
   "execution_count": 8,
   "id": "44803dbf-a597-4a5b-8f22-7ec2f9f4ac77",
   "metadata": {},
   "outputs": [],
   "source": [
    "length_df = 1000\n",
    "xs = np.zeros((length_df, 3))\n",
    "ys = []\n",
    "#true_sigmas = []\n",
    "\n",
    "for r in range(length_df):\n",
    "    rs = np.random.RandomState()#2147483648)# \n",
    "    m = rs.normal(loc=1, scale=1)\n",
    "    b = rs.normal(loc=0, scale=10)\n",
    "    sigma = abs(rs.normal(loc=0, scale=10))\n",
    "    thetas = [m, b, sigma]\n",
    "    xs[r,:] = thetas\n",
    "    ys.append(simulator(thetas))"
   ]
  },
  {
   "cell_type": "code",
   "execution_count": null,
   "id": "3e1fa82c-b539-4861-9482-f73bf405d5c4",
   "metadata": {},
   "outputs": [],
   "source": []
  },
  {
   "cell_type": "markdown",
   "id": "10fdf711-938f-4435-8e4b-cf7d233088f7",
   "metadata": {},
   "source": [
    "## 3 Define the model"
   ]
  },
  {
   "cell_type": "code",
   "execution_count": 5,
   "id": "26d55129-a7d1-414d-85db-ed0d4a142f29",
   "metadata": {},
   "outputs": [],
   "source": [
    "def linefit_model(xs,\n",
    "                  exponential,\n",
    "                  y=None):\n",
    "    m = numpyro.sample(\"m\", dist.TruncatedNormal(5, 2, low = 0.01))\n",
    "    b = numpyro.sample(\"b\", dist.Normal(0, 5))\n",
    "    σ = numpyro.sample(\"σ\", dist.Exponential(exponential))\n",
    "    modelx = m * xs + b \n",
    "    pos = numpyro.sample(\"obs\", dist.Normal(modelx, σ), obs=y)\n",
    "\n",
    "def hierarchical_model(planet_code,\n",
    "                       pendulum_code,\n",
    "                       times,\n",
    "                       exponential,\n",
    "                       pos_obs=None):\n",
    "    μ_a_g = numpyro.sample(\"μ_a_g\", dist.TruncatedNormal(12.5, 5, low=0.01))\n",
    "    # scale parameters should be log uniform so that they don't go negative \n",
    "    # and so that they're not uniform\n",
    "    # 1 / x in linear space\n",
    "    σ_a_g = numpyro.sample(\"σ_a_g\", dist.TruncatedNormal(0.1, 0.01, low=0.01))\n",
    "    n_planets = len(np.unique(planet_code))\n",
    "    n_pendulums = len(np.unique(pendulum_code))\n",
    "\n",
    "    ## plates are a numpyro primitive or context manager for handing conditionally independence\n",
    "    ## for instance, we wish to model a_g for each planet independently\n",
    "    with numpyro.plate(\"planet_i\", n_planets):\n",
    "        a_g = numpyro.sample(\"a_g\", dist.TruncatedNormal(μ_a_g, σ_a_g,\n",
    "                                                         low=0.01))\n",
    "        # helps because a_gs are being pulled from same normal dist\n",
    "        # removes dependency of a_g on sigma_a_g on a prior level\n",
    "        # removing one covariance from model, model is easier\n",
    "        # to sample from\n",
    "    \n",
    "    ## we also wish to model L and theta for each pendulum independently\n",
    "    ## here we draw from an uniform distribution\n",
    "    with numpyro.plate(\"pend_i\", n_pendulums):\n",
    "        L = numpyro.sample(\"L\", dist.TruncatedNormal(5, 2, low=0.01))\n",
    "        theta = numpyro.sample(\"theta\", dist.TruncatedNormal(jnp.pi/100,\n",
    "                                                             jnp.pi/500,\n",
    "                                                             low=0.00001))\n",
    "\n",
    "    ## σ is the error on the position measurement for each moment in time\n",
    "    ## we also model this\n",
    "    ## eventually, we should also model the error on each parameter independently?\n",
    "    ## draw from an exponential distribution parameterized by a rate parameter\n",
    "    ## the mean of an exponential distribution is 1/r where r is the rate parameter\n",
    "    ## exponential distributions are never negative. This is good for error.\n",
    "    σ = numpyro.sample(\"σ\", dist.Exponential(exponential))\n",
    "    \n",
    "    ## the moments in time are not independent, so we do not place the following in a plate\n",
    "    ## instead, the brackets segment the model by pendulum and by planet,\n",
    "    ## telling us how to conduct the inference\n",
    "    modelx = L[pendulum_code] * jnp.sin(theta[pendulum_code] * jnp.cos(jnp.sqrt(a_g[planet_code] / L[pendulum_code]) * times))\n",
    "    ## don't forget to use jnp instead of np so jax knows what to do\n",
    "    ## A BIG QUESTION I STILL HAVE IS WHAT IS THE LIKELIHOOD? IS IT JUST SAMPLED FROM?\n",
    "    ## again, for each pendulum we compare the observed to the modeled position:\n",
    "    with numpyro.plate(\"data\", len(pendulum_code)):\n",
    "        pos = numpyro.sample(\"obs\", dist.Normal(modelx, σ), obs=pos_obs)\n",
    "\n",
    "\n",
    "def unpooled_model(planet_code,\n",
    "                   pendulum_code,\n",
    "                   times,\n",
    "                   exponential,\n",
    "                   pos_obs=None):\n",
    "    n_planets = len(np.unique(planet_code))\n",
    "    n_pendulums = len(np.unique(pendulum_code))\n",
    "    with numpyro.plate(\"planet_i\", n_planets):\n",
    "        a_g = numpyro.sample(\"a_g\", dist.TruncatedNormal(12.5, 5,\n",
    "                                                         low=0, high=25))\n",
    "    with numpyro.plate(\"pend_i\", n_pendulums):\n",
    "        L = numpyro.sample(\"L\", dist.TruncatedNormal(5, 2, low = 0.01))\n",
    "        theta = numpyro.sample(\"theta\", dist.TruncatedNormal(jnp.pi/100,\n",
    "                                                             jnp.pi/500,\n",
    "                                                             low=0.00001))\n",
    "    σ = numpyro.sample(\"σ\", dist.Exponential(exponential))\n",
    "    modelx = L[pendulum_code] * jnp.sin(theta[pendulum_code] *\n",
    "                         jnp.cos(jnp.sqrt(a_g[planet_code] / L[pendulum_code]) * times))\n",
    "    with numpyro.plate(\"data\", len(pendulum_code)):\n",
    "        pos = numpyro.sample(\"obs\", dist.Normal(modelx, σ), obs=pos_obs)\n"
   ]
  },
  {
   "cell_type": "code",
   "execution_count": 10,
   "id": "6da1775e-d630-4150-b419-1592eaa7e753",
   "metadata": {},
   "outputs": [
    {
     "data": {
      "image/svg+xml": [
       "<?xml version=\"1.0\" encoding=\"UTF-8\" standalone=\"no\"?>\n",
       "<!DOCTYPE svg PUBLIC \"-//W3C//DTD SVG 1.1//EN\"\n",
       " \"http://www.w3.org/Graphics/SVG/1.1/DTD/svg11.dtd\">\n",
       "<!-- Generated by graphviz version 8.1.0 (20230707.0739)\n",
       " -->\n",
       "<!-- Pages: 1 -->\n",
       "<svg width=\"408pt\" height=\"154pt\"\n",
       " viewBox=\"0.00 0.00 408.38 154.00\" xmlns=\"http://www.w3.org/2000/svg\" xmlns:xlink=\"http://www.w3.org/1999/xlink\">\n",
       "<g id=\"graph0\" class=\"graph\" transform=\"scale(1 1) rotate(0) translate(4 150)\">\n",
       "<polygon fill=\"white\" stroke=\"none\" points=\"-4,4 -4,-150 404.38,-150 404.38,4 -4,4\"/>\n",
       "<!-- m -->\n",
       "<g id=\"node1\" class=\"node\">\n",
       "<title>m</title>\n",
       "<ellipse fill=\"white\" stroke=\"black\" cx=\"27\" cy=\"-109\" rx=\"27\" ry=\"18\"/>\n",
       "<text text-anchor=\"middle\" x=\"27\" y=\"-103.95\" font-family=\"Times,serif\" font-size=\"14.00\">m</text>\n",
       "</g>\n",
       "<!-- obs -->\n",
       "<g id=\"node4\" class=\"node\">\n",
       "<title>obs</title>\n",
       "<ellipse fill=\"white\" stroke=\"black\" cx=\"99\" cy=\"-18\" rx=\"27\" ry=\"18\"/>\n",
       "<text text-anchor=\"middle\" x=\"99\" y=\"-12.95\" font-family=\"Times,serif\" font-size=\"14.00\">obs</text>\n",
       "</g>\n",
       "<!-- m&#45;&gt;obs -->\n",
       "<g id=\"edge1\" class=\"edge\">\n",
       "<title>m&#45;&gt;obs</title>\n",
       "<path fill=\"none\" stroke=\"black\" d=\"M39.21,-92.9C50.32,-79.18 66.89,-58.7 79.77,-42.78\"/>\n",
       "<polygon fill=\"black\" stroke=\"black\" points=\"82.92,-45.45 86.48,-35.47 77.47,-41.04 82.92,-45.45\"/>\n",
       "</g>\n",
       "<!-- b -->\n",
       "<g id=\"node2\" class=\"node\">\n",
       "<title>b</title>\n",
       "<ellipse fill=\"white\" stroke=\"black\" cx=\"99\" cy=\"-109\" rx=\"27\" ry=\"18\"/>\n",
       "<text text-anchor=\"middle\" x=\"99\" y=\"-103.95\" font-family=\"Times,serif\" font-size=\"14.00\">b</text>\n",
       "</g>\n",
       "<!-- b&#45;&gt;obs -->\n",
       "<g id=\"edge2\" class=\"edge\">\n",
       "<title>b&#45;&gt;obs</title>\n",
       "<path fill=\"none\" stroke=\"black\" d=\"M99,-90.84C99,-78.48 99,-61.54 99,-47.21\"/>\n",
       "<polygon fill=\"black\" stroke=\"black\" points=\"102.5,-47.41 99,-37.41 95.5,-47.41 102.5,-47.41\"/>\n",
       "</g>\n",
       "<!-- σ -->\n",
       "<g id=\"node3\" class=\"node\">\n",
       "<title>σ</title>\n",
       "<ellipse fill=\"white\" stroke=\"black\" cx=\"171\" cy=\"-109\" rx=\"27\" ry=\"18\"/>\n",
       "<text text-anchor=\"middle\" x=\"171\" y=\"-103.95\" font-family=\"Times,serif\" font-size=\"14.00\">σ</text>\n",
       "</g>\n",
       "<!-- σ&#45;&gt;obs -->\n",
       "<g id=\"edge3\" class=\"edge\">\n",
       "<title>σ&#45;&gt;obs</title>\n",
       "<path fill=\"none\" stroke=\"black\" d=\"M158.79,-92.9C147.68,-79.18 131.11,-58.7 118.23,-42.78\"/>\n",
       "<polygon fill=\"black\" stroke=\"black\" points=\"120.53,-41.04 111.52,-35.47 115.08,-45.45 120.53,-41.04\"/>\n",
       "</g>\n",
       "<!-- distribution_description_node -->\n",
       "<g id=\"node5\" class=\"node\">\n",
       "<title>distribution_description_node</title>\n",
       "<text text-anchor=\"start\" x=\"223.62\" y=\"-128.7\" font-family=\"Times,serif\" font-size=\"14.00\">m ~ LeftTruncatedDistribution</text>\n",
       "<text text-anchor=\"start\" x=\"223.62\" y=\"-112.2\" font-family=\"Times,serif\" font-size=\"14.00\">b ~ Normal</text>\n",
       "<text text-anchor=\"start\" x=\"223.62\" y=\"-95.7\" font-family=\"Times,serif\" font-size=\"14.00\">σ ~ Exponential</text>\n",
       "<text text-anchor=\"start\" x=\"223.62\" y=\"-79.2\" font-family=\"Times,serif\" font-size=\"14.00\">obs ~ Normal</text>\n",
       "</g>\n",
       "</g>\n",
       "</svg>\n"
      ],
      "text/plain": [
       "<graphviz.graphs.Digraph at 0x2aae08460>"
      ]
     },
     "execution_count": 10,
     "metadata": {},
     "output_type": "execute_result"
    }
   ],
   "source": [
    "exponential = 100\n",
    "numpyro.render_model(\n",
    "    model=linefit_model,\n",
    "    model_args=(xs,exponential),\n",
    "    render_distributions=True,\n",
    "    render_params=True,\n",
    ")"
   ]
  },
  {
   "cell_type": "markdown",
   "id": "f8eccbf9-30f6-4714-a34b-1ba735bcdc98",
   "metadata": {},
   "source": [
    "## 4 Do the sampling\n",
    "To do this first make some true values."
   ]
  },
  {
   "cell_type": "code",
   "execution_count": 26,
   "id": "db72ad72-6f89-4c71-a1cd-fcbe502b73bd",
   "metadata": {},
   "outputs": [],
   "source": [
    "true_thetas = [1, 0, 2]\n",
    "xs = np.linspace(0, 100, 101)\n",
    "ys = simulator(true_thetas)"
   ]
  },
  {
   "cell_type": "code",
   "execution_count": 27,
   "id": "8dc505c7-61d3-45a6-9768-b26faaf8acec",
   "metadata": {},
   "outputs": [
    {
     "data": {
      "application/vnd.jupyter.widget-view+json": {
       "model_id": "39e12c2e586e4d91918a4163bd2d07e3",
       "version_major": 2,
       "version_minor": 0
      },
      "text/plain": [
       "  0%|          | 0/5100 [00:00<?, ?it/s]"
      ]
     },
     "metadata": {},
     "output_type": "display_data"
    },
    {
     "data": {
      "application/vnd.jupyter.widget-view+json": {
       "model_id": "0f83943730fa41a3906c89163a0b45eb",
       "version_major": 2,
       "version_minor": 0
      },
      "text/plain": [
       "  0%|          | 0/5100 [00:00<?, ?it/s]"
      ]
     },
     "metadata": {},
     "output_type": "display_data"
    },
    {
     "data": {
      "application/vnd.jupyter.widget-view+json": {
       "model_id": "2bc11f0b23154ac7b5c7293672e5a9c6",
       "version_major": 2,
       "version_minor": 0
      },
      "text/plain": [
       "  0%|          | 0/5100 [00:00<?, ?it/s]"
      ]
     },
     "metadata": {},
     "output_type": "display_data"
    },
    {
     "data": {
      "application/vnd.jupyter.widget-view+json": {
       "model_id": "f048854a41ab40479d666f29d29f1418",
       "version_major": 2,
       "version_minor": 0
      },
      "text/plain": [
       "  0%|          | 0/5100 [00:00<?, ?it/s]"
      ]
     },
     "metadata": {},
     "output_type": "display_data"
    }
   ],
   "source": [
    "## the NUTS (no u-turn sampler) is a type of hamiltonian monte carlo\n",
    "## method, meaning it knows about potential energy (think gradients)\n",
    "nuts_kernel = NUTS(linefit_model, init_strategy = numpyro.infer.initialization.init_to_sample)#, target_accept_prob = 0.9)\n",
    "\n",
    "# can change the target acceptance probability\n",
    "# default is 0.8 80% \n",
    "mcmc = MCMC(nuts_kernel, num_samples=5000, num_warmup=100, num_chains = 4)\n",
    "rng_key = jax.random.PRNGKey(0)\n",
    "mcmc.run(rng_key, xs,\n",
    "                exponential, y = ys)\n",
    "\n",
    "posterior_samples = mcmc.get_samples()"
   ]
  },
  {
   "cell_type": "code",
   "execution_count": 28,
   "id": "3a603bb4-bff6-49c6-be0f-f51cf12540c5",
   "metadata": {},
   "outputs": [
    {
     "name": "stdout",
     "output_type": "stream",
     "text": [
      "divergences: 0\n"
     ]
    },
    {
     "data": {
      "text/html": [
       "<div>\n",
       "<style scoped>\n",
       "    .dataframe tbody tr th:only-of-type {\n",
       "        vertical-align: middle;\n",
       "    }\n",
       "\n",
       "    .dataframe tbody tr th {\n",
       "        vertical-align: top;\n",
       "    }\n",
       "\n",
       "    .dataframe thead th {\n",
       "        text-align: right;\n",
       "    }\n",
       "</style>\n",
       "<table border=\"1\" class=\"dataframe\">\n",
       "  <thead>\n",
       "    <tr style=\"text-align: right;\">\n",
       "      <th></th>\n",
       "      <th>mean</th>\n",
       "      <th>sd</th>\n",
       "      <th>hdi_3%</th>\n",
       "      <th>hdi_97%</th>\n",
       "      <th>mcse_mean</th>\n",
       "      <th>mcse_sd</th>\n",
       "      <th>ess_bulk</th>\n",
       "      <th>ess_tail</th>\n",
       "      <th>r_hat</th>\n",
       "    </tr>\n",
       "  </thead>\n",
       "  <tbody>\n",
       "    <tr>\n",
       "      <th>b</th>\n",
       "      <td>-0.130</td>\n",
       "      <td>0.323</td>\n",
       "      <td>-0.614</td>\n",
       "      <td>0.293</td>\n",
       "      <td>0.012</td>\n",
       "      <td>0.011</td>\n",
       "      <td>1648.0</td>\n",
       "      <td>1377.0</td>\n",
       "      <td>1.0</td>\n",
       "    </tr>\n",
       "    <tr>\n",
       "      <th>m</th>\n",
       "      <td>0.996</td>\n",
       "      <td>0.005</td>\n",
       "      <td>0.988</td>\n",
       "      <td>1.004</td>\n",
       "      <td>0.000</td>\n",
       "      <td>0.000</td>\n",
       "      <td>1974.0</td>\n",
       "      <td>1897.0</td>\n",
       "      <td>1.0</td>\n",
       "    </tr>\n",
       "    <tr>\n",
       "      <th>σ</th>\n",
       "      <td>1.193</td>\n",
       "      <td>0.055</td>\n",
       "      <td>1.098</td>\n",
       "      <td>1.289</td>\n",
       "      <td>0.001</td>\n",
       "      <td>0.001</td>\n",
       "      <td>9495.0</td>\n",
       "      <td>4218.0</td>\n",
       "      <td>1.0</td>\n",
       "    </tr>\n",
       "  </tbody>\n",
       "</table>\n",
       "</div>"
      ],
      "text/plain": [
       "    mean     sd  hdi_3%  hdi_97%  mcse_mean  mcse_sd  ess_bulk  ess_tail  \\\n",
       "b -0.130  0.323  -0.614    0.293      0.012    0.011    1648.0    1377.0   \n",
       "m  0.996  0.005   0.988    1.004      0.000    0.000    1974.0    1897.0   \n",
       "σ  1.193  0.055   1.098    1.289      0.001    0.001    9495.0    4218.0   \n",
       "\n",
       "   r_hat  \n",
       "b    1.0  \n",
       "m    1.0  \n",
       "σ    1.0  "
      ]
     },
     "execution_count": 28,
     "metadata": {},
     "output_type": "execute_result"
    }
   ],
   "source": [
    "table, inf_data = utils.sampling_summary_table(mcmc)\n",
    "table"
   ]
  },
  {
   "cell_type": "code",
   "execution_count": 29,
   "id": "4a511b34-98f6-4182-b02b-bc1de6aeaac4",
   "metadata": {},
   "outputs": [
    {
     "name": "stderr",
     "output_type": "stream",
     "text": [
      "WARNING:root:Too few points to create valid contours\n",
      "WARNING:root:Too few points to create valid contours\n",
      "WARNING:root:Too few points to create valid contours\n"
     ]
    },
    {
     "data": {
      "text/plain": [
       "<Figure size 640x480 with 0 Axes>"
      ]
     },
     "metadata": {},
     "output_type": "display_data"
    },
    {
     "data": {
      "image/png": "[encoded data removed]",
      "text/plain": [
       "<Figure size 760x760 with 9 Axes>"
      ]
     },
     "metadata": {},
     "output_type": "display_data"
    }
   ],
   "source": [
    "# take a look at the posterior\n",
    "data = az.from_dict(\n",
    "    posterior={\"m\": posterior_samples[\"m\"][:], \"b\": posterior_samples[\"b\"][:],\n",
    "               \"σ\": posterior_samples[\"σ\"][:]},\n",
    "#     sample_stats={\"diverging\": posterior[\"L\"][:,0] < 9.0},\n",
    ")\n",
    "plt.clf()\n",
    "figure = corner.corner(data, divergences=True, truths = true_thetas, truth_color = '#D84797')#,\n",
    "                       #range = [(5,20),(5,20),(5,20),(5,20),(5,20),(5,20),(5,20),(5,20)])\n",
    "plt.show()"
   ]
  },
  {
   "cell_type": "code",
   "execution_count": null,
   "id": "ea355bad-561a-4564-9242-9491c7021aac",
   "metadata": {},
   "outputs": [],
   "source": []
  }
 ],
 "metadata": {
  "kernelspec": {
   "display_name": "Python 3 (ipykernel)",
   "language": "python",
   "name": "python3"
  },
  "language_info": {
   "codemirror_mode": {
    "name": "ipython",
    "version": 3
   },
   "file_extension": ".py",
   "mimetype": "text/x-python",
   "name": "python",
   "nbconvert_exporter": "python",
   "pygments_lexer": "ipython3",
   "version": "3.9.12"
  }
 },
 "nbformat": 4,
 "nbformat_minor": 5
}
