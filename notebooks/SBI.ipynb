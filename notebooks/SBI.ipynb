{
 "cells": [
  {
   "cell_type": "markdown",
   "id": "f774193d",
   "metadata": {},
   "source": [
    "# Pendulum SBI"
   ]
  },
  {
   "cell_type": "markdown",
   "id": "fe040c0f",
   "metadata": {},
   "source": [
    "## The dataset: simple static pendulum\n",
    "Using the position of a pendulum at one point in time from a collection of pendulums on two different planets, determine the position associated with L, $\\theta$, and $a_g$ using a deep ensemble."
   ]
  },
  {
   "cell_type": "code",
   "execution_count": 1,
   "id": "5e8c8f57",
   "metadata": {},
   "outputs": [],
   "source": [
    "## first, import all the necessary modules\n",
    "import numpy as np\n",
    "import matplotlib.pyplot as plt\n",
    "from sklearn.model_selection import train_test_split\n",
    "from sklearn.preprocessing import StandardScaler\n",
    "import torch\n",
    "import torch.nn as nn\n",
    "from torch.utils.data import DataLoader, TensorDataset\n",
    "#from src.scripts import utils"
   ]
  },
  {
   "cell_type": "markdown",
   "id": "d478548e",
   "metadata": {},
   "source": [
    "## Generate pendulum data\n",
    "To do this make a dataframe and replicate a bunch of columns. There are 8 pendulums on two different planets. The planet_id and pendulum_id are integers denoting which pendulum and which planet each row of the dataframe belongs."
   ]
  },
  {
   "cell_type": "code",
   "execution_count": 2,
   "id": "4a76432d",
   "metadata": {},
   "outputs": [
    {
     "name": "stdout",
     "output_type": "stream",
     "text": [
      "0.2.01\n"
     ]
    },
    {
     "ename": "NameError",
     "evalue": "name 'STOP' is not defined",
     "output_type": "error",
     "traceback": [
      "\u001b[0;31m---------------------------------------------------------------------------\u001b[0m",
      "\u001b[0;31mNameError\u001b[0m                                 Traceback (most recent call last)",
      "Cell \u001b[0;32mIn[2], line 4\u001b[0m\n\u001b[1;32m      2\u001b[0m \u001b[38;5;28;01mfrom\u001b[39;00m \u001b[38;5;21;01mdeepbench\u001b[39;00m\u001b[38;5;21;01m.\u001b[39;00m\u001b[38;5;21;01mphysics_object\u001b[39;00m \u001b[38;5;28;01mimport\u001b[39;00m Pendulum\n\u001b[1;32m      3\u001b[0m \u001b[38;5;28mprint\u001b[39m(deepbench\u001b[38;5;241m.\u001b[39m__version__)\n\u001b[0;32m----> 4\u001b[0m \u001b[43mSTOP\u001b[49m\n\u001b[1;32m      6\u001b[0m true_L \u001b[38;5;241m=\u001b[39m \u001b[38;5;241m1.0\u001b[39m\n\u001b[1;32m      7\u001b[0m true_theta \u001b[38;5;241m=\u001b[39m np\u001b[38;5;241m.\u001b[39mpi \u001b[38;5;241m/\u001b[39m \u001b[38;5;241m100\u001b[39m\n",
      "\u001b[0;31mNameError\u001b[0m: name 'STOP' is not defined"
     ]
    }
   ],
   "source": [
    "import deepbench\n",
    "from deepbench.physics_object import Pendulum\n",
    "print(deepbench.__version__)\n"
   ]
  },
  {
   "cell_type": "code",
   "execution_count": 3,
   "id": "1080e951",
   "metadata": {},
   "outputs": [],
   "source": [
    "# how should this error propagate?\n",
    "\n",
    "def calc_error_prop(true_L, true_theta, true_a, dthing, time = 0.5, wrt = 'theta_0'):\n",
    "    if wrt == 'theta_0':\n",
    "        dx_dthing = true_L * np.cos(true_theta * np.cos(np.sqrt(true_a / true_L) * one_time)) * \\\n",
    "              np.cos(np.sqrt(true_a / true_L) * one_time) * dthing\n",
    "    if wrt == 'L':\n",
    "\n",
    "        dx_dthing = (0.5 * true_theta * time * np.sqrt(true_a / true_L) * np.sin(time * np.sqrt(true_a / true_L)) * \\\n",
    "             np.cos(true_theta * np.cos(time * np.sqrt(true_a / true_L))) + \\\n",
    "             np.sin(true_theta * np.cos(time * np.sqrt(true_a / true_L)))) * dthing\n",
    "    return dx_dthing"
   ]
  },
  {
   "cell_type": "code",
   "execution_count": 4,
   "id": "7bfe9a7f",
   "metadata": {},
   "outputs": [],
   "source": [
    "from sbi import utils, inference, analysis\n",
    "# from sbi import inference\n",
    "from sbi.inference import SNPE, simulate_for_sbi, prepare_for_sbi\n",
    "from sbi.inference.base import infer\n",
    "import torch"
   ]
  },
  {
   "cell_type": "markdown",
   "id": "aad086a5",
   "metadata": {},
   "source": [
    "Okay define the priors as uniform distributions."
   ]
  },
  {
   "cell_type": "code",
   "execution_count": 5,
   "id": "26d4dde4",
   "metadata": {},
   "outputs": [
    {
     "name": "stdout",
     "output_type": "stream",
     "text": [
      "tensor([6.1716, 0.0338, 4.2549])\n"
     ]
    }
   ],
   "source": [
    "num_dim = 3\n",
    "\n",
    "low_bounds = torch.tensor([1, np.pi/500, 1])\n",
    "high_bounds = torch.tensor([10, 3*np.pi/200, 10])\n",
    "\n",
    "prior = utils.BoxUniform(low = low_bounds, high = high_bounds)\n",
    "print(prior.sample())"
   ]
  },
  {
   "cell_type": "code",
   "execution_count": 6,
   "id": "0d90f3ef",
   "metadata": {},
   "outputs": [],
   "source": [
    "def simulator(thetas):#, percent_errors):\n",
    "    # just plop the pendulum within here\n",
    "    length, theta, a_g = thetas\n",
    "    #print('heres what were inputting', thetas, a_g)\n",
    "    #length_percent_error_all, theta_percent_error_all, a_g_percent_error_all = \\\n",
    "    #    percent_errors\n",
    "    pendulum = Pendulum(\n",
    "        pendulum_arm_length=float(length),\n",
    "        starting_angle_radians=float(theta),\n",
    "        acceleration_due_to_gravity=float(a_g),\n",
    "        noise_std_percent={\n",
    "            \"pendulum_arm_length\": 0.0,\n",
    "            \"starting_angle_radians\": 0.1,\n",
    "            \"acceleration_due_to_gravity\": 0.0,\n",
    "        },\n",
    "    )\n",
    "    output = np.array(pendulum.create_object(np.linspace(0,2,100), noiseless=False))\n",
    "    #torch.tensor(pendulum.create_object(0.75, noiseless=False))\n",
    "    \n",
    "    return output\n",
    "\n",
    "def linear_gaussian(theta):\n",
    "    output = theta + 1.0 + torch.randn_like(theta) * 0.1\n",
    "    return output"
   ]
  },
  {
   "cell_type": "code",
   "execution_count": 7,
   "id": "c7d0effa",
   "metadata": {},
   "outputs": [
    {
     "data": {
      "application/vnd.jupyter.widget-view+json": {
       "model_id": "e86df6e27fb94cea86c5617b8e24f20b",
       "version_major": 2,
       "version_minor": 0
      },
      "text/plain": [
       "Running 10000 simulations.:   0%|          | 0/10000 [00:00<?, ?it/s]"
      ]
     },
     "metadata": {},
     "output_type": "display_data"
    },
    {
     "ename": "OSError",
     "evalue": "[Errno 24] Too many open files",
     "output_type": "error",
     "traceback": [
      "\u001b[0;31m---------------------------------------------------------------------------\u001b[0m",
      "\u001b[0;31mOSError\u001b[0m                                   Traceback (most recent call last)",
      "Cell \u001b[0;32mIn[7], line 1\u001b[0m\n\u001b[0;32m----> 1\u001b[0m posterior \u001b[38;5;241m=\u001b[39m \u001b[43minfer\u001b[49m\u001b[43m(\u001b[49m\u001b[43msimulator\u001b[49m\u001b[43m,\u001b[49m\u001b[43m \u001b[49m\u001b[43mprior\u001b[49m\u001b[43m,\u001b[49m\u001b[43m \u001b[49m\u001b[38;5;124;43m\"\u001b[39;49m\u001b[38;5;124;43mSNPE\u001b[39;49m\u001b[38;5;124;43m\"\u001b[39;49m\u001b[43m,\u001b[49m\u001b[43m \u001b[49m\u001b[43mnum_simulations\u001b[49m\u001b[38;5;241;43m=\u001b[39;49m\u001b[38;5;241;43m10000\u001b[39;49m\u001b[43m)\u001b[49m\n",
      "File \u001b[0;32m~/Library/Caches/pypoetry/virtualenvs/deepuq-DRzT0TL8-py3.9/lib/python3.9/site-packages/sbi/inference/base.py:72\u001b[0m, in \u001b[0;36minfer\u001b[0;34m(simulator, prior, method, num_simulations, num_workers)\u001b[0m\n\u001b[1;32m     69\u001b[0m simulator, prior \u001b[38;5;241m=\u001b[39m prepare_for_sbi(simulator, prior)\n\u001b[1;32m     71\u001b[0m inference \u001b[38;5;241m=\u001b[39m method_fun(prior\u001b[38;5;241m=\u001b[39mprior)\n\u001b[0;32m---> 72\u001b[0m theta, x \u001b[38;5;241m=\u001b[39m \u001b[43msimulate_for_sbi\u001b[49m\u001b[43m(\u001b[49m\n\u001b[1;32m     73\u001b[0m \u001b[43m    \u001b[49m\u001b[43msimulator\u001b[49m\u001b[38;5;241;43m=\u001b[39;49m\u001b[43msimulator\u001b[49m\u001b[43m,\u001b[49m\n\u001b[1;32m     74\u001b[0m \u001b[43m    \u001b[49m\u001b[43mproposal\u001b[49m\u001b[38;5;241;43m=\u001b[39;49m\u001b[43mprior\u001b[49m\u001b[43m,\u001b[49m\n\u001b[1;32m     75\u001b[0m \u001b[43m    \u001b[49m\u001b[43mnum_simulations\u001b[49m\u001b[38;5;241;43m=\u001b[39;49m\u001b[43mnum_simulations\u001b[49m\u001b[43m,\u001b[49m\n\u001b[1;32m     76\u001b[0m \u001b[43m    \u001b[49m\u001b[43mnum_workers\u001b[49m\u001b[38;5;241;43m=\u001b[39;49m\u001b[43mnum_workers\u001b[49m\u001b[43m,\u001b[49m\n\u001b[1;32m     77\u001b[0m \u001b[43m\u001b[49m\u001b[43m)\u001b[49m\n\u001b[1;32m     78\u001b[0m _ \u001b[38;5;241m=\u001b[39m inference\u001b[38;5;241m.\u001b[39mappend_simulations(theta, x)\u001b[38;5;241m.\u001b[39mtrain()\n\u001b[1;32m     79\u001b[0m posterior \u001b[38;5;241m=\u001b[39m inference\u001b[38;5;241m.\u001b[39mbuild_posterior()\n",
      "File \u001b[0;32m~/Library/Caches/pypoetry/virtualenvs/deepuq-DRzT0TL8-py3.9/lib/python3.9/site-packages/sbi/inference/base.py:495\u001b[0m, in \u001b[0;36msimulate_for_sbi\u001b[0;34m(simulator, proposal, num_simulations, num_workers, simulation_batch_size, show_progress_bar)\u001b[0m\n\u001b[1;32m    466\u001b[0m \u001b[38;5;250m\u001b[39m\u001b[38;5;124mr\u001b[39m\u001b[38;5;124;03m\"\"\"Returns ($\\theta, x$) pairs obtained from sampling the proposal and simulating.\u001b[39;00m\n\u001b[1;32m    467\u001b[0m \n\u001b[1;32m    468\u001b[0m \u001b[38;5;124;03mThis function performs two steps:\u001b[39;00m\n\u001b[0;32m   (...)\u001b[0m\n\u001b[1;32m    490\u001b[0m \u001b[38;5;124;03mReturns: Sampled parameters $\\theta$ and simulation-outputs $x$.\u001b[39;00m\n\u001b[1;32m    491\u001b[0m \u001b[38;5;124;03m\"\"\"\u001b[39;00m\n\u001b[1;32m    493\u001b[0m theta \u001b[38;5;241m=\u001b[39m proposal\u001b[38;5;241m.\u001b[39msample((num_simulations,))\n\u001b[0;32m--> 495\u001b[0m x \u001b[38;5;241m=\u001b[39m \u001b[43msimulate_in_batches\u001b[49m\u001b[43m(\u001b[49m\n\u001b[1;32m    496\u001b[0m \u001b[43m    \u001b[49m\u001b[43msimulator\u001b[49m\u001b[43m,\u001b[49m\u001b[43m \u001b[49m\u001b[43mtheta\u001b[49m\u001b[43m,\u001b[49m\u001b[43m \u001b[49m\u001b[43msimulation_batch_size\u001b[49m\u001b[43m,\u001b[49m\u001b[43m \u001b[49m\u001b[43mnum_workers\u001b[49m\u001b[43m,\u001b[49m\u001b[43m \u001b[49m\u001b[43mshow_progress_bar\u001b[49m\n\u001b[1;32m    497\u001b[0m \u001b[43m\u001b[49m\u001b[43m)\u001b[49m\n\u001b[1;32m    499\u001b[0m \u001b[38;5;28;01mreturn\u001b[39;00m theta, x\n",
      "File \u001b[0;32m~/Library/Caches/pypoetry/virtualenvs/deepuq-DRzT0TL8-py3.9/lib/python3.9/site-packages/sbi/simulators/simutils.py:88\u001b[0m, in \u001b[0;36msimulate_in_batches\u001b[0;34m(simulator, theta, sim_batch_size, num_workers, seed, show_progress_bars)\u001b[0m\n\u001b[1;32m     86\u001b[0m         simulation_outputs \u001b[38;5;241m=\u001b[39m []\n\u001b[1;32m     87\u001b[0m         \u001b[38;5;28;01mfor\u001b[39;00m batch \u001b[38;5;129;01min\u001b[39;00m batches:\n\u001b[0;32m---> 88\u001b[0m             simulation_outputs\u001b[38;5;241m.\u001b[39mappend(\u001b[43msimulator\u001b[49m\u001b[43m(\u001b[49m\u001b[43mbatch\u001b[49m\u001b[43m)\u001b[49m)\n\u001b[1;32m     89\u001b[0m             pbar\u001b[38;5;241m.\u001b[39mupdate(sim_batch_size)\n\u001b[1;32m     91\u001b[0m x \u001b[38;5;241m=\u001b[39m torch\u001b[38;5;241m.\u001b[39mcat(simulation_outputs, dim\u001b[38;5;241m=\u001b[39m\u001b[38;5;241m0\u001b[39m)\n",
      "File \u001b[0;32m~/Library/Caches/pypoetry/virtualenvs/deepuq-DRzT0TL8-py3.9/lib/python3.9/site-packages/sbi/utils/user_input_checks.py:551\u001b[0m, in \u001b[0;36mbatch_loop_simulator\u001b[0;34m(theta)\u001b[0m\n",
      "File \u001b[0;32m~/Library/Caches/pypoetry/virtualenvs/deepuq-DRzT0TL8-py3.9/lib/python3.9/site-packages/sbi/utils/user_input_checks.py:515\u001b[0m, in \u001b[0;36mpytorch_simulator\u001b[0;34m(theta)\u001b[0m\n",
      "Cell \u001b[0;32mIn[6], line 7\u001b[0m, in \u001b[0;36msimulator\u001b[0;34m(thetas)\u001b[0m\n\u001b[1;32m      3\u001b[0m length, theta, a_g \u001b[38;5;241m=\u001b[39m thetas\n\u001b[1;32m      4\u001b[0m \u001b[38;5;66;03m#print('heres what were inputting', thetas, a_g)\u001b[39;00m\n\u001b[1;32m      5\u001b[0m \u001b[38;5;66;03m#length_percent_error_all, theta_percent_error_all, a_g_percent_error_all = \\\u001b[39;00m\n\u001b[1;32m      6\u001b[0m \u001b[38;5;66;03m#    percent_errors\u001b[39;00m\n\u001b[0;32m----> 7\u001b[0m pendulum \u001b[38;5;241m=\u001b[39m \u001b[43mPendulum\u001b[49m\u001b[43m(\u001b[49m\n\u001b[1;32m      8\u001b[0m \u001b[43m    \u001b[49m\u001b[43mpendulum_arm_length\u001b[49m\u001b[38;5;241;43m=\u001b[39;49m\u001b[38;5;28;43mfloat\u001b[39;49m\u001b[43m(\u001b[49m\u001b[43mlength\u001b[49m\u001b[43m)\u001b[49m\u001b[43m,\u001b[49m\n\u001b[1;32m      9\u001b[0m \u001b[43m    \u001b[49m\u001b[43mstarting_angle_radians\u001b[49m\u001b[38;5;241;43m=\u001b[39;49m\u001b[38;5;28;43mfloat\u001b[39;49m\u001b[43m(\u001b[49m\u001b[43mtheta\u001b[49m\u001b[43m)\u001b[49m\u001b[43m,\u001b[49m\n\u001b[1;32m     10\u001b[0m \u001b[43m    \u001b[49m\u001b[43macceleration_due_to_gravity\u001b[49m\u001b[38;5;241;43m=\u001b[39;49m\u001b[38;5;28;43mfloat\u001b[39;49m\u001b[43m(\u001b[49m\u001b[43ma_g\u001b[49m\u001b[43m)\u001b[49m\u001b[43m,\u001b[49m\n\u001b[1;32m     11\u001b[0m \u001b[43m    \u001b[49m\u001b[43mnoise_std_percent\u001b[49m\u001b[38;5;241;43m=\u001b[39;49m\u001b[43m{\u001b[49m\n\u001b[1;32m     12\u001b[0m \u001b[43m        \u001b[49m\u001b[38;5;124;43m\"\u001b[39;49m\u001b[38;5;124;43mpendulum_arm_length\u001b[39;49m\u001b[38;5;124;43m\"\u001b[39;49m\u001b[43m:\u001b[49m\u001b[43m \u001b[49m\u001b[38;5;241;43m0.0\u001b[39;49m\u001b[43m,\u001b[49m\n\u001b[1;32m     13\u001b[0m \u001b[43m        \u001b[49m\u001b[38;5;124;43m\"\u001b[39;49m\u001b[38;5;124;43mstarting_angle_radians\u001b[39;49m\u001b[38;5;124;43m\"\u001b[39;49m\u001b[43m:\u001b[49m\u001b[43m \u001b[49m\u001b[38;5;241;43m0.1\u001b[39;49m\u001b[43m,\u001b[49m\n\u001b[1;32m     14\u001b[0m \u001b[43m        \u001b[49m\u001b[38;5;124;43m\"\u001b[39;49m\u001b[38;5;124;43macceleration_due_to_gravity\u001b[39;49m\u001b[38;5;124;43m\"\u001b[39;49m\u001b[43m:\u001b[49m\u001b[43m \u001b[49m\u001b[38;5;241;43m0.0\u001b[39;49m\u001b[43m,\u001b[49m\n\u001b[1;32m     15\u001b[0m \u001b[43m    \u001b[49m\u001b[43m}\u001b[49m\u001b[43m,\u001b[49m\n\u001b[1;32m     16\u001b[0m \u001b[43m\u001b[49m\u001b[43m)\u001b[49m\n\u001b[1;32m     17\u001b[0m output \u001b[38;5;241m=\u001b[39m np\u001b[38;5;241m.\u001b[39marray(pendulum\u001b[38;5;241m.\u001b[39mcreate_object(np\u001b[38;5;241m.\u001b[39mlinspace(\u001b[38;5;241m0\u001b[39m,\u001b[38;5;241m2\u001b[39m,\u001b[38;5;241m100\u001b[39m), noiseless\u001b[38;5;241m=\u001b[39m\u001b[38;5;28;01mFalse\u001b[39;00m))\n\u001b[1;32m     18\u001b[0m \u001b[38;5;66;03m#torch.tensor(pendulum.create_object(0.75, noiseless=False))\u001b[39;00m\n",
      "File \u001b[0;32m~/Library/Caches/pypoetry/virtualenvs/deepuq-DRzT0TL8-py3.9/lib/python3.9/site-packages/deepbench/physics_object/pendulum.py:135\u001b[0m, in \u001b[0;36m__init__\u001b[0;34m(self, pendulum_arm_length, starting_angle_radians, noise_std_percent, acceleration_due_to_gravity, big_G_newton, phi_planet, mass_pendulum_bob, coefficient_friction)\u001b[0m\n",
      "File \u001b[0;32m/opt/homebrew/Caskroom/miniconda/base/lib/python3.9/logging/__init__.py:1135\u001b[0m, in \u001b[0;36m__init__\u001b[0;34m(self, filename, mode, encoding, delay, errors)\u001b[0m\n",
      "File \u001b[0;32m/opt/homebrew/Caskroom/miniconda/base/lib/python3.9/posixpath.py:380\u001b[0m, in \u001b[0;36mabspath\u001b[0;34m(path)\u001b[0m\n",
      "\u001b[0;31mOSError\u001b[0m: [Errno 24] Too many open files"
     ]
    }
   ],
   "source": [
    "posterior = infer(simulator, prior, \"SNPE\", num_simulations=10000)"
   ]
  },
  {
   "cell_type": "code",
   "execution_count": 14,
   "id": "4102596e",
   "metadata": {},
   "outputs": [
    {
     "name": "stdout",
     "output_type": "stream",
     "text": [
      "[ 0.07625158  0.08049497  0.09278156  0.06236312  0.08333401  0.08372527\n",
      "  0.07612885  0.08864967  0.06947212  0.08427258  0.07112986  0.07345919\n",
      "  0.08093297  0.08278143  0.07708453  0.0896376   0.07609298  0.0623881\n",
      "  0.08728749  0.06844008  0.06962766  0.08282833  0.06933933  0.07545184\n",
      "  0.06952057  0.06881789  0.0761766   0.06252401  0.06426313  0.0582699\n",
      "  0.04921441  0.05879513  0.05600547  0.0541257   0.06640297  0.05142542\n",
      "  0.04955162  0.05071783  0.05250058  0.05361158  0.05015727  0.04254812\n",
      "  0.03757062  0.04678548  0.03337447  0.0382374   0.03071208  0.04042319\n",
      "  0.03530869  0.02688927  0.02644155  0.02156865  0.02267736  0.02447217\n",
      "  0.02161515  0.0180927   0.01433271  0.01479866  0.01585307  0.01208199\n",
      "  0.01115776  0.00803297  0.00607459  0.0056249   0.00291435  0.00118301\n",
      " -0.00046837 -0.00260291 -0.0034015  -0.00562956 -0.00700255 -0.00974571\n",
      " -0.011722   -0.01348153 -0.01426037 -0.01599149 -0.01758207 -0.02154206\n",
      " -0.02168833 -0.02376787 -0.02787193 -0.02736318 -0.02907602 -0.03639365\n",
      " -0.03278785 -0.03843984 -0.03455089 -0.03726909 -0.04100521 -0.03133121\n",
      " -0.04410028 -0.04283474 -0.04822454 -0.05501899 -0.04858891 -0.04818896\n",
      " -0.05109743 -0.05778226 -0.06314378 -0.06048415]\n"
     ]
    },
    {
     "data": {
      "application/vnd.jupyter.widget-view+json": {
       "model_id": "f2956b2e38a74b73b03922af08ffd849",
       "version_major": 2,
       "version_minor": 0
      },
      "text/plain": [
       "Drawing 10000 posterior samples:   0%|          | 0/10000 [00:00<?, ?it/s]"
      ]
     },
     "metadata": {},
     "output_type": "display_data"
    },
    {
     "data": {
      "image/png": "[encoded data removed]",
      "text/plain": [
       "<Figure size 500x500 with 9 Axes>"
      ]
     },
     "metadata": {},
     "output_type": "display_data"
    }
   ],
   "source": [
    "#x_o_1 = simulator([5, np.pi/100, 5])\n",
    "x_o_1 = simulator([5, np.pi/200, 7])\n",
    "print(x_o_1)\n",
    "posterior_samples_1 = posterior.sample((10000,), x=x_o_1)\n",
    "\n",
    "# plot posterior samples\n",
    "_ = analysis.pairplot(\n",
    "    posterior_samples_1, \n",
    "    labels = ['L',r'$\\theta_0$','$a_g$'],\n",
    "    limits = [[0,10],[np.pi/200,3*np.pi/200],[0,10]],\n",
    "    truths = [5, np.pi/100, 5],\n",
    "    figsize=(5, 5)\n",
    ")\n"
   ]
  },
  {
   "cell_type": "code",
   "execution_count": 9,
   "id": "053817fb",
   "metadata": {},
   "outputs": [
    {
     "name": "stdout",
     "output_type": "stream",
     "text": [
      "0.031415926535897934\n"
     ]
    }
   ],
   "source": [
    "print(np.pi/100)"
   ]
  },
  {
   "cell_type": "code",
   "execution_count": null,
   "id": "23d40aa4-5e55-496e-a32b-dec65d90fb58",
   "metadata": {},
   "outputs": [],
   "source": []
  }
 ],
 "metadata": {
  "kernelspec": {
   "display_name": "Python 3 (ipykernel)",
   "language": "python",
   "name": "python3"
  },
  "language_info": {
   "codemirror_mode": {
    "name": "ipython",
    "version": 3
   },
   "file_extension": ".py",
   "mimetype": "text/x-python",
   "name": "python",
   "nbconvert_exporter": "python",
   "pygments_lexer": "ipython3",
   "version": "3.9.12"
  }
 },
 "nbformat": 4,
 "nbformat_minor": 5
}
