{
 "cells": [
  {
   "cell_type": "markdown",
   "id": "f774193d",
   "metadata": {},
   "source": [
    "# Pendulum SBI"
   ]
  },
  {
   "cell_type": "markdown",
   "id": "fe040c0f",
   "metadata": {},
   "source": [
    "## The dataset: simple static pendulum\n",
    "Using the position of a pendulum at one point in time from a collection of pendulums on two different planets, determine the position associated with L, $\\theta$, and $a_g$ using a deep ensemble."
   ]
  },
  {
   "cell_type": "code",
   "execution_count": 1,
   "id": "5e8c8f57",
   "metadata": {},
   "outputs": [],
   "source": [
    "## first, import all the necessary modules\n",
    "import numpy as np\n",
    "import matplotlib.pyplot as plt\n",
    "from sklearn.model_selection import train_test_split\n",
    "from sklearn.preprocessing import StandardScaler\n",
    "import torch\n",
    "import torch.nn as nn\n",
    "from torch.utils.data import DataLoader, TensorDataset\n",
    "import numpy as np"
   ]
  },
  {
   "cell_type": "markdown",
   "id": "d478548e",
   "metadata": {},
   "source": [
    "## Generate pendulum data\n",
    "To do this make a dataframe and replicate a bunch of columns. There are 8 pendulums on two different planets. The planet_id and pendulum_id are integers denoting which pendulum and which planet each row of the dataframe belongs."
   ]
  },
  {
   "cell_type": "code",
   "execution_count": 2,
   "id": "4a76432d",
   "metadata": {},
   "outputs": [
    {
     "name": "stdout",
     "output_type": "stream",
     "text": [
      "0.2.01\n"
     ]
    }
   ],
   "source": [
    "import deepbench\n",
    "from deepbench.physics_object import Pendulum\n",
    "print(deepbench.__version__)"
   ]
  },
  {
   "cell_type": "code",
   "execution_count": 11,
   "id": "7bfe9a7f",
   "metadata": {},
   "outputs": [],
   "source": [
    "import sbi\n",
    "# from sbi import inference\n",
    "from sbi.inference import SNPE, simulate_for_sbi, prepare_for_sbi\n",
    "from sbi import analysis as analysis\n",
    "from sbi.inference.base import infer\n",
    "import torch"
   ]
  },
  {
   "cell_type": "code",
   "execution_count": 4,
   "id": "ff8152c0-94f3-4a7c-a50b-dff13517305b",
   "metadata": {},
   "outputs": [],
   "source": [
    "# this is necessary to import modules from this repo\n",
    "import sys\n",
    "sys.path.append('..')\n",
    "from src.scripts import models, utils, train"
   ]
  },
  {
   "cell_type": "markdown",
   "id": "aad086a5",
   "metadata": {},
   "source": [
    "Okay define the priors as uniform distributions."
   ]
  },
  {
   "cell_type": "code",
   "execution_count": 5,
   "id": "26d4dde4",
   "metadata": {},
   "outputs": [
    {
     "name": "stdout",
     "output_type": "stream",
     "text": [
      "tensor([3.4324, 0.0128, 8.4127])\n"
     ]
    }
   ],
   "source": [
    "num_dim = 3\n",
    "\n",
    "low_bounds = torch.tensor([1, np.pi/500, 1])\n",
    "high_bounds = torch.tensor([10, 3*np.pi/200, 10])\n",
    "\n",
    "prior = sbi.utils.BoxUniform(low = low_bounds, high = high_bounds)\n",
    "# sample from the prior\n",
    "print(prior.sample())"
   ]
  },
  {
   "cell_type": "code",
   "execution_count": 6,
   "id": "0d90f3ef",
   "metadata": {},
   "outputs": [],
   "source": [
    "def simulator(thetas):#, percent_errors):\n",
    "    # just plop the pendulum within here\n",
    "    length, theta, a_g = thetas\n",
    "    #print('heres what were inputting', thetas, a_g)\n",
    "    #length_percent_error_all, theta_percent_error_all, a_g_percent_error_all = \\\n",
    "    #    percent_errors\n",
    "    pendulum = Pendulum(\n",
    "        pendulum_arm_length=float(length),\n",
    "        starting_angle_radians=float(theta),\n",
    "        acceleration_due_to_gravity=float(a_g),\n",
    "        noise_std_percent={\n",
    "            \"pendulum_arm_length\": 0.0,\n",
    "            \"starting_angle_radians\": 0.1,\n",
    "            \"acceleration_due_to_gravity\": 0.0,\n",
    "        },\n",
    "    )\n",
    "    output = np.array(pendulum.create_object(np.linspace(0,2,100), noiseless=False))\n",
    "    #torch.tensor(pendulum.create_object(0.75, noiseless=False))\n",
    "    \n",
    "    return output\n",
    "\n",
    "# is it actually possible to set up a hierarchical model in this way?\n",
    "# can we actually that the pendulums are actually on two different planets?\n",
    "# how do you set up a simulator so that it knows about placing pendulums into groups?\n",
    "def hierarchical_simulator(thetas):\n",
    "    # just plop the pendulum within here\n",
    "    length, theta, a_g = thetas\n",
    "    #print('heres what were inputting', thetas, a_g)\n",
    "    #length_percent_error_all, theta_percent_error_all, a_g_percent_error_all = \\\n",
    "    #    percent_errors\n",
    "    pendulum = Pendulum(\n",
    "        pendulum_arm_length=float(length),\n",
    "        starting_angle_radians=float(theta),\n",
    "        acceleration_due_to_gravity=float(a_g),\n",
    "        noise_std_percent={\n",
    "            \"pendulum_arm_length\": 0.0,\n",
    "            \"starting_angle_radians\": 0.1,\n",
    "            \"acceleration_due_to_gravity\": 0.0,\n",
    "        },\n",
    "    )\n",
    "    output = np.array(pendulum.create_object(np.linspace(0,2,100), noiseless=False))\n",
    "    #torch.tensor(pendulum.create_object(0.75, noiseless=False))\n",
    "    \n",
    "    return output\n",
    "\n",
    "def linear_gaussian(theta):\n",
    "    output = theta + 1.0 + torch.randn_like(theta) * 0.1\n",
    "    return output"
   ]
  },
  {
   "cell_type": "code",
   "execution_count": 7,
   "id": "c7d0effa",
   "metadata": {},
   "outputs": [
    {
     "data": {
      "application/vnd.jupyter.widget-view+json": {
       "model_id": "0016983ebf36487d82074e9b92c0999f",
       "version_major": 2,
       "version_minor": 0
      },
      "text/plain": [
       "Running 1000 simulations.:   0%|          | 0/1000 [00:00<?, ?it/s]"
      ]
     },
     "metadata": {},
     "output_type": "display_data"
    },
    {
     "name": "stdout",
     "output_type": "stream",
     "text": [
      " Neural network successfully converged after 94 epochs."
     ]
    }
   ],
   "source": [
    "posterior = infer(simulator, prior, \"SNPE\", num_simulations=1000)"
   ]
  },
  {
   "cell_type": "code",
   "execution_count": 12,
   "id": "4102596e",
   "metadata": {},
   "outputs": [
    {
     "name": "stdout",
     "output_type": "stream",
     "text": [
      "[ 0.07262869  0.07199425  0.06080543  0.08709723  0.07227584  0.08210627\n",
      "  0.07571235  0.08290334  0.08826164  0.07471968  0.07340502  0.08502192\n",
      "  0.0826398   0.06916078  0.08114342  0.06392182  0.07864613  0.0788254\n",
      "  0.07879793  0.05868415  0.06223347  0.06609198  0.06532925  0.07618247\n",
      "  0.0649434   0.0603592   0.05569079  0.0693472   0.06219306  0.05140238\n",
      "  0.06909498  0.05091801  0.05732841  0.05429712  0.0547272   0.05604888\n",
      "  0.04509002  0.04387677  0.04521991  0.05154561  0.0471123   0.04789744\n",
      "  0.03978025  0.04386657  0.03761613  0.03613892  0.03583977  0.03415337\n",
      "  0.03012392  0.02778596  0.02931387  0.02480714  0.02374231  0.02169891\n",
      "  0.02035453  0.01591178  0.01810248  0.01670907  0.01044349  0.01370839\n",
      "  0.0111382   0.00921387  0.00668215  0.00507055  0.00334703  0.00129868\n",
      " -0.00059254 -0.00228121 -0.00439478 -0.00668649 -0.00766331 -0.0118025\n",
      " -0.01137257 -0.01182074 -0.01700982 -0.01698029 -0.0194498  -0.02165009\n",
      " -0.02472339 -0.02293032 -0.03174761 -0.02933469 -0.02754536 -0.03221995\n",
      " -0.03103672 -0.03457344 -0.03413206 -0.03585147 -0.0448898  -0.04131922\n",
      " -0.04336628 -0.03953229 -0.04753358 -0.04484064 -0.05179059 -0.0559457\n",
      " -0.05100568 -0.05426347 -0.05852063 -0.04605235]\n"
     ]
    },
    {
     "data": {
      "application/vnd.jupyter.widget-view+json": {
       "model_id": "c2d2f117110d4ee49e0673845b8350a8",
       "version_major": 2,
       "version_minor": 0
      },
      "text/plain": [
       "Drawing 10000 posterior samples:   0%|          | 0/10000 [00:00<?, ?it/s]"
      ]
     },
     "metadata": {},
     "output_type": "display_data"
    },
    {
     "data": {
      "image/png": "[encoded data removed]",
      "text/plain": [
       "<Figure size 500x500 with 9 Axes>"
      ]
     },
     "metadata": {},
     "output_type": "display_data"
    }
   ],
   "source": [
    "#x_o_1 = simulator([5, np.pi/100, 5])\n",
    "x_o_1 = simulator([5, np.pi/200, 7])\n",
    "print(x_o_1)\n",
    "posterior_samples_1 = posterior.sample((10000,), x=x_o_1)\n",
    "\n",
    "# plot posterior samples\n",
    "_ = analysis.pairplot(\n",
    "    posterior_samples_1, \n",
    "    labels = ['L',r'$\\theta_0$','$a_g$'],\n",
    "    limits = [[0,10],[np.pi/200,3*np.pi/200],[0,10]],\n",
    "    truths = [5, np.pi/100, 5],\n",
    "    figsize=(5, 5)\n",
    ")\n"
   ]
  },
  {
   "cell_type": "code",
   "execution_count": null,
   "id": "5ba2e8ba-c69b-4cb0-8f6c-f39043933da0",
   "metadata": {},
   "outputs": [],
   "source": []
  }
 ],
 "metadata": {
  "kernelspec": {
   "display_name": "Python 3 (ipykernel)",
   "language": "python",
   "name": "python3"
  },
  "language_info": {
   "codemirror_mode": {
    "name": "ipython",
    "version": 3
   },
   "file_extension": ".py",
   "mimetype": "text/x-python",
   "name": "python",
   "nbconvert_exporter": "python",
   "pygments_lexer": "ipython3",
   "version": "3.9.12"
  }
 },
 "nbformat": 4,
 "nbformat_minor": 5
}
