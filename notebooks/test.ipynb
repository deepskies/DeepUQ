{
 "cells": [
  {
   "cell_type": "code",
   "execution_count": 3,
   "id": "e6a7e5a3-8989-4b0f-8704-c8d430449278",
   "metadata": {
    "tags": []
   },
   "outputs": [],
   "source": [
    "import sys"
   ]
  },
  {
   "cell_type": "code",
   "execution_count": 4,
   "id": "f95ecd18-47a8-438a-b57e-dc78ce77a6ad",
   "metadata": {
    "tags": []
   },
   "outputs": [],
   "source": [
    "sys.path.append(\"..\")"
   ]
  },
  {
   "cell_type": "code",
   "execution_count": 5,
   "id": "931ca2f5-44c6-4bfc-a31f-8a64afdd641f",
   "metadata": {
    "tags": []
   },
   "outputs": [],
   "source": [
    "from src.scripts import utils"
   ]
  },
  {
   "cell_type": "code",
   "execution_count": null,
   "id": "96bc3753-5cbf-4eb6-9650-47f901b3fd46",
   "metadata": {},
   "outputs": [],
   "source": []
  }
 ],
 "metadata": {
  "kernelspec": {
   "display_name": "Python 3 (ipykernel)",
   "language": "python",
   "name": "py3-preamble"
  },
  "language_info": {
   "codemirror_mode": {
    "name": "ipython",
    "version": 3
   },
   "file_extension": ".py",
   "mimetype": "text/x-python",
   "name": "python",
   "nbconvert_exporter": "python",
   "pygments_lexer": "ipython3",
   "version": "3.9.15"
  }
 },
 "nbformat": 4,
 "nbformat_minor": 5
}
